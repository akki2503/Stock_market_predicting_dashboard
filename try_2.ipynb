{
 "cells": [
  {
   "cell_type": "code",
   "execution_count": 82,
   "metadata": {},
   "outputs": [
    {
     "name": "stdout",
     "output_type": "stream",
     "text": [
      "2.3.0\n"
     ]
    }
   ],
   "source": [
    "import numpy as np\n",
    "import pandas as pd\n",
    "\n",
    "import matplotlib.pyplot as plt\n",
    "\n",
    "from keras.models import Sequential\n",
    "from keras.layers import Conv1D\n",
    "from keras.layers import Dense\n",
    "from keras.layers import LSTM, Flatten\n",
    "from keras.layers import Dropout\n",
    "\n",
    "import tensorflow as tf\n",
    "print(tf.__version__)\n",
    "import time, sys\n",
    "from IPython.display import clear_output"
   ]
  },
  {
   "cell_type": "code",
   "execution_count": 192,
   "metadata": {},
   "outputs": [
    {
     "data": {
      "text/html": [
       "<div>\n",
       "<style scoped>\n",
       "    .dataframe tbody tr th:only-of-type {\n",
       "        vertical-align: middle;\n",
       "    }\n",
       "\n",
       "    .dataframe tbody tr th {\n",
       "        vertical-align: top;\n",
       "    }\n",
       "\n",
       "    .dataframe thead th {\n",
       "        text-align: right;\n",
       "    }\n",
       "</style>\n",
       "<table border=\"1\" class=\"dataframe\">\n",
       "  <thead>\n",
       "    <tr style=\"text-align: right;\">\n",
       "      <th></th>\n",
       "      <th>Date</th>\n",
       "      <th>Open</th>\n",
       "      <th>High</th>\n",
       "      <th>Low</th>\n",
       "      <th>Close</th>\n",
       "      <th>Volume</th>\n",
       "    </tr>\n",
       "  </thead>\n",
       "  <tbody>\n",
       "    <tr>\n",
       "      <th>0</th>\n",
       "      <td>2000-01-10</td>\n",
       "      <td>102.542999</td>\n",
       "      <td>110.746002</td>\n",
       "      <td>94.339798</td>\n",
       "      <td>107.478996</td>\n",
       "      <td>30230400.0</td>\n",
       "    </tr>\n",
       "    <tr>\n",
       "      <th>1</th>\n",
       "      <td>2000-01-11</td>\n",
       "      <td>103.125000</td>\n",
       "      <td>107.811996</td>\n",
       "      <td>98.880898</td>\n",
       "      <td>98.880898</td>\n",
       "      <td>15658368.0</td>\n",
       "    </tr>\n",
       "    <tr>\n",
       "      <th>2</th>\n",
       "      <td>2000-01-12</td>\n",
       "      <td>93.359398</td>\n",
       "      <td>104.289001</td>\n",
       "      <td>91.921898</td>\n",
       "      <td>102.167999</td>\n",
       "      <td>25993472.0</td>\n",
       "    </tr>\n",
       "    <tr>\n",
       "      <th>3</th>\n",
       "      <td>2000-01-13</td>\n",
       "      <td>102.344002</td>\n",
       "      <td>102.726997</td>\n",
       "      <td>93.994904</td>\n",
       "      <td>94.457802</td>\n",
       "      <td>20038400.0</td>\n",
       "    </tr>\n",
       "    <tr>\n",
       "      <th>4</th>\n",
       "      <td>2000-01-14</td>\n",
       "      <td>95.695297</td>\n",
       "      <td>96.070297</td>\n",
       "      <td>87.523399</td>\n",
       "      <td>95.128098</td>\n",
       "      <td>16040064.0</td>\n",
       "    </tr>\n",
       "    <tr>\n",
       "      <th>...</th>\n",
       "      <td>...</td>\n",
       "      <td>...</td>\n",
       "      <td>...</td>\n",
       "      <td>...</td>\n",
       "      <td>...</td>\n",
       "      <td>...</td>\n",
       "    </tr>\n",
       "    <tr>\n",
       "      <th>5190</th>\n",
       "      <td>2020-09-30</td>\n",
       "      <td>1009.000000</td>\n",
       "      <td>1023.950012</td>\n",
       "      <td>1005.000000</td>\n",
       "      <td>1008.250000</td>\n",
       "      <td>8048817.0</td>\n",
       "    </tr>\n",
       "    <tr>\n",
       "      <th>5191</th>\n",
       "      <td>2020-10-01</td>\n",
       "      <td>1020.599976</td>\n",
       "      <td>1026.500000</td>\n",
       "      <td>1011.750000</td>\n",
       "      <td>1017.650024</td>\n",
       "      <td>5563358.0</td>\n",
       "    </tr>\n",
       "    <tr>\n",
       "      <th>5192</th>\n",
       "      <td>2020-10-05</td>\n",
       "      <td>1018.049988</td>\n",
       "      <td>1054.900024</td>\n",
       "      <td>1018.049988</td>\n",
       "      <td>1048.699951</td>\n",
       "      <td>14212509.0</td>\n",
       "    </tr>\n",
       "    <tr>\n",
       "      <th>5193</th>\n",
       "      <td>2020-10-06</td>\n",
       "      <td>1055.000000</td>\n",
       "      <td>1060.000000</td>\n",
       "      <td>1031.349976</td>\n",
       "      <td>1055.750000</td>\n",
       "      <td>9090819.0</td>\n",
       "    </tr>\n",
       "    <tr>\n",
       "      <th>5194</th>\n",
       "      <td>2020-10-07</td>\n",
       "      <td>1044.900024</td>\n",
       "      <td>1072.000000</td>\n",
       "      <td>1035.500000</td>\n",
       "      <td>1066.550049</td>\n",
       "      <td>9284008.0</td>\n",
       "    </tr>\n",
       "  </tbody>\n",
       "</table>\n",
       "<p>5126 rows × 6 columns</p>\n",
       "</div>"
      ],
      "text/plain": [
       "            Date         Open         High          Low        Close  \\\n",
       "0     2000-01-10   102.542999   110.746002    94.339798   107.478996   \n",
       "1     2000-01-11   103.125000   107.811996    98.880898    98.880898   \n",
       "2     2000-01-12    93.359398   104.289001    91.921898   102.167999   \n",
       "3     2000-01-13   102.344002   102.726997    93.994904    94.457802   \n",
       "4     2000-01-14    95.695297    96.070297    87.523399    95.128098   \n",
       "...          ...          ...          ...          ...          ...   \n",
       "5190  2020-09-30  1009.000000  1023.950012  1005.000000  1008.250000   \n",
       "5191  2020-10-01  1020.599976  1026.500000  1011.750000  1017.650024   \n",
       "5192  2020-10-05  1018.049988  1054.900024  1018.049988  1048.699951   \n",
       "5193  2020-10-06  1055.000000  1060.000000  1031.349976  1055.750000   \n",
       "5194  2020-10-07  1044.900024  1072.000000  1035.500000  1066.550049   \n",
       "\n",
       "          Volume  \n",
       "0     30230400.0  \n",
       "1     15658368.0  \n",
       "2     25993472.0  \n",
       "3     20038400.0  \n",
       "4     16040064.0  \n",
       "...          ...  \n",
       "5190   8048817.0  \n",
       "5191   5563358.0  \n",
       "5192  14212509.0  \n",
       "5193   9090819.0  \n",
       "5194   9284008.0  \n",
       "\n",
       "[5126 rows x 6 columns]"
      ]
     },
     "execution_count": 192,
     "metadata": {},
     "output_type": "execute_result"
    }
   ],
   "source": [
    "raw_data = pd.read_csv('Infosys.csv')\n",
    "raw_data = raw_data.dropna()\n",
    "raw_data = raw_data.drop(['Adj Close'], axis=1)\n",
    "raw_data"
   ]
  },
  {
   "cell_type": "code",
   "execution_count": 193,
   "metadata": {},
   "outputs": [
    {
     "data": {
      "text/html": [
       "<div>\n",
       "<style scoped>\n",
       "    .dataframe tbody tr th:only-of-type {\n",
       "        vertical-align: middle;\n",
       "    }\n",
       "\n",
       "    .dataframe tbody tr th {\n",
       "        vertical-align: top;\n",
       "    }\n",
       "\n",
       "    .dataframe thead th {\n",
       "        text-align: right;\n",
       "    }\n",
       "</style>\n",
       "<table border=\"1\" class=\"dataframe\">\n",
       "  <thead>\n",
       "    <tr style=\"text-align: right;\">\n",
       "      <th></th>\n",
       "      <th>Date</th>\n",
       "      <th>Open</th>\n",
       "      <th>High</th>\n",
       "      <th>Low</th>\n",
       "      <th>Close</th>\n",
       "      <th>Volume</th>\n",
       "      <th>Shifted Close Price 1</th>\n",
       "      <th>Shifted Close Price 2</th>\n",
       "      <th>Shifted Close Price 3</th>\n",
       "      <th>Shifted Close Price 4</th>\n",
       "      <th>Shifted Close Price 5</th>\n",
       "    </tr>\n",
       "  </thead>\n",
       "  <tbody>\n",
       "    <tr>\n",
       "      <th>5</th>\n",
       "      <td>2000-01-17</td>\n",
       "      <td>95.312500</td>\n",
       "      <td>100.664001</td>\n",
       "      <td>91.562500</td>\n",
       "      <td>92.741402</td>\n",
       "      <td>18092928.0</td>\n",
       "      <td>95.128098</td>\n",
       "      <td>94.457802</td>\n",
       "      <td>102.167999</td>\n",
       "      <td>98.880898</td>\n",
       "      <td>107.478996</td>\n",
       "    </tr>\n",
       "    <tr>\n",
       "      <th>6</th>\n",
       "      <td>2000-01-18</td>\n",
       "      <td>91.716400</td>\n",
       "      <td>95.070297</td>\n",
       "      <td>88.476601</td>\n",
       "      <td>93.247299</td>\n",
       "      <td>20290944.0</td>\n",
       "      <td>92.741402</td>\n",
       "      <td>95.128098</td>\n",
       "      <td>94.457802</td>\n",
       "      <td>102.167999</td>\n",
       "      <td>98.880898</td>\n",
       "    </tr>\n",
       "    <tr>\n",
       "      <th>7</th>\n",
       "      <td>2000-01-19</td>\n",
       "      <td>98.015602</td>\n",
       "      <td>100.707001</td>\n",
       "      <td>97.031197</td>\n",
       "      <td>100.702003</td>\n",
       "      <td>19994752.0</td>\n",
       "      <td>93.247299</td>\n",
       "      <td>92.741402</td>\n",
       "      <td>95.128098</td>\n",
       "      <td>94.457802</td>\n",
       "      <td>102.167999</td>\n",
       "    </tr>\n",
       "    <tr>\n",
       "      <th>8</th>\n",
       "      <td>2000-01-20</td>\n",
       "      <td>103.125000</td>\n",
       "      <td>105.866997</td>\n",
       "      <td>98.523399</td>\n",
       "      <td>99.586304</td>\n",
       "      <td>19778560.0</td>\n",
       "      <td>100.702003</td>\n",
       "      <td>93.247299</td>\n",
       "      <td>92.741402</td>\n",
       "      <td>95.128098</td>\n",
       "      <td>94.457802</td>\n",
       "    </tr>\n",
       "    <tr>\n",
       "      <th>9</th>\n",
       "      <td>2000-01-21</td>\n",
       "      <td>100.780998</td>\n",
       "      <td>106.171997</td>\n",
       "      <td>97.679703</td>\n",
       "      <td>104.845001</td>\n",
       "      <td>20786048.0</td>\n",
       "      <td>99.586304</td>\n",
       "      <td>100.702003</td>\n",
       "      <td>93.247299</td>\n",
       "      <td>92.741402</td>\n",
       "      <td>95.128098</td>\n",
       "    </tr>\n",
       "    <tr>\n",
       "      <th>...</th>\n",
       "      <td>...</td>\n",
       "      <td>...</td>\n",
       "      <td>...</td>\n",
       "      <td>...</td>\n",
       "      <td>...</td>\n",
       "      <td>...</td>\n",
       "      <td>...</td>\n",
       "      <td>...</td>\n",
       "      <td>...</td>\n",
       "      <td>...</td>\n",
       "      <td>...</td>\n",
       "    </tr>\n",
       "    <tr>\n",
       "      <th>5190</th>\n",
       "      <td>2020-09-30</td>\n",
       "      <td>1009.000000</td>\n",
       "      <td>1023.950012</td>\n",
       "      <td>1005.000000</td>\n",
       "      <td>1008.250000</td>\n",
       "      <td>8048817.0</td>\n",
       "      <td>1009.000000</td>\n",
       "      <td>1010.400024</td>\n",
       "      <td>1011.450012</td>\n",
       "      <td>975.400024</td>\n",
       "      <td>1019.750000</td>\n",
       "    </tr>\n",
       "    <tr>\n",
       "      <th>5191</th>\n",
       "      <td>2020-10-01</td>\n",
       "      <td>1020.599976</td>\n",
       "      <td>1026.500000</td>\n",
       "      <td>1011.750000</td>\n",
       "      <td>1017.650024</td>\n",
       "      <td>5563358.0</td>\n",
       "      <td>1008.250000</td>\n",
       "      <td>1009.000000</td>\n",
       "      <td>1010.400024</td>\n",
       "      <td>1011.450012</td>\n",
       "      <td>975.400024</td>\n",
       "    </tr>\n",
       "    <tr>\n",
       "      <th>5192</th>\n",
       "      <td>2020-10-05</td>\n",
       "      <td>1018.049988</td>\n",
       "      <td>1054.900024</td>\n",
       "      <td>1018.049988</td>\n",
       "      <td>1048.699951</td>\n",
       "      <td>14212509.0</td>\n",
       "      <td>1017.650024</td>\n",
       "      <td>1008.250000</td>\n",
       "      <td>1009.000000</td>\n",
       "      <td>1010.400024</td>\n",
       "      <td>1011.450012</td>\n",
       "    </tr>\n",
       "    <tr>\n",
       "      <th>5193</th>\n",
       "      <td>2020-10-06</td>\n",
       "      <td>1055.000000</td>\n",
       "      <td>1060.000000</td>\n",
       "      <td>1031.349976</td>\n",
       "      <td>1055.750000</td>\n",
       "      <td>9090819.0</td>\n",
       "      <td>1048.699951</td>\n",
       "      <td>1017.650024</td>\n",
       "      <td>1008.250000</td>\n",
       "      <td>1009.000000</td>\n",
       "      <td>1010.400024</td>\n",
       "    </tr>\n",
       "    <tr>\n",
       "      <th>5194</th>\n",
       "      <td>2020-10-07</td>\n",
       "      <td>1044.900024</td>\n",
       "      <td>1072.000000</td>\n",
       "      <td>1035.500000</td>\n",
       "      <td>1066.550049</td>\n",
       "      <td>9284008.0</td>\n",
       "      <td>1055.750000</td>\n",
       "      <td>1048.699951</td>\n",
       "      <td>1017.650024</td>\n",
       "      <td>1008.250000</td>\n",
       "      <td>1009.000000</td>\n",
       "    </tr>\n",
       "  </tbody>\n",
       "</table>\n",
       "<p>5121 rows × 11 columns</p>\n",
       "</div>"
      ],
      "text/plain": [
       "            Date         Open         High          Low        Close  \\\n",
       "5     2000-01-17    95.312500   100.664001    91.562500    92.741402   \n",
       "6     2000-01-18    91.716400    95.070297    88.476601    93.247299   \n",
       "7     2000-01-19    98.015602   100.707001    97.031197   100.702003   \n",
       "8     2000-01-20   103.125000   105.866997    98.523399    99.586304   \n",
       "9     2000-01-21   100.780998   106.171997    97.679703   104.845001   \n",
       "...          ...          ...          ...          ...          ...   \n",
       "5190  2020-09-30  1009.000000  1023.950012  1005.000000  1008.250000   \n",
       "5191  2020-10-01  1020.599976  1026.500000  1011.750000  1017.650024   \n",
       "5192  2020-10-05  1018.049988  1054.900024  1018.049988  1048.699951   \n",
       "5193  2020-10-06  1055.000000  1060.000000  1031.349976  1055.750000   \n",
       "5194  2020-10-07  1044.900024  1072.000000  1035.500000  1066.550049   \n",
       "\n",
       "          Volume  Shifted Close Price 1  Shifted Close Price 2  \\\n",
       "5     18092928.0              95.128098              94.457802   \n",
       "6     20290944.0              92.741402              95.128098   \n",
       "7     19994752.0              93.247299              92.741402   \n",
       "8     19778560.0             100.702003              93.247299   \n",
       "9     20786048.0              99.586304             100.702003   \n",
       "...          ...                    ...                    ...   \n",
       "5190   8048817.0            1009.000000            1010.400024   \n",
       "5191   5563358.0            1008.250000            1009.000000   \n",
       "5192  14212509.0            1017.650024            1008.250000   \n",
       "5193   9090819.0            1048.699951            1017.650024   \n",
       "5194   9284008.0            1055.750000            1048.699951   \n",
       "\n",
       "      Shifted Close Price 3  Shifted Close Price 4  Shifted Close Price 5  \n",
       "5                102.167999              98.880898             107.478996  \n",
       "6                 94.457802             102.167999              98.880898  \n",
       "7                 95.128098              94.457802             102.167999  \n",
       "8                 92.741402              95.128098              94.457802  \n",
       "9                 93.247299              92.741402              95.128098  \n",
       "...                     ...                    ...                    ...  \n",
       "5190            1011.450012             975.400024            1019.750000  \n",
       "5191            1010.400024            1011.450012             975.400024  \n",
       "5192            1009.000000            1010.400024            1011.450012  \n",
       "5193            1008.250000            1009.000000            1010.400024  \n",
       "5194            1017.650024            1008.250000            1009.000000  \n",
       "\n",
       "[5121 rows x 11 columns]"
      ]
     },
     "execution_count": 193,
     "metadata": {},
     "output_type": "execute_result"
    }
   ],
   "source": [
    "n_lag = 5\n",
    "n_seq = 5\n",
    "new_data = pd.DataFrame()\n",
    "for i in range(1,n_lag+1):\n",
    "    var_name = 'Shifted Close Price ' + str(i)\n",
    "    raw_data[var_name] = raw_data['Close'].shift(i)\n",
    "# for i in range(1,n_seq+1):\n",
    "#     var_name = 'Shifted Close Price ' + str(-i)\n",
    "#     raw_data[var_name] = raw_data['Close'].shift(-i)\n",
    "#     raw_data['Shifted Close Price 2'] = raw_data['Close Price'].shift(-2)\n",
    "#     raw_data['Shifted Close Price 3'] = raw_data['Close Price'].shift(-3)\n",
    "#     raw_data['Shifted Close Price 4'] = raw_data['Close Price'].shift(-4)\n",
    "#     raw_data['Shifted Close Price 5'] = raw_data['Close Price'].shift(-5)\n",
    "raw_data = raw_data.dropna()\n",
    "raw_data"
   ]
  },
  {
   "cell_type": "code",
   "execution_count": 188,
   "metadata": {},
   "outputs": [
    {
     "data": {
      "image/png": "[encoded data removed]",
      "text/plain": [
       "<Figure size 1440x360 with 1 Axes>"
      ]
     },
     "metadata": {
      "needs_background": "light"
     },
     "output_type": "display_data"
    }
   ],
   "source": [
    "fig, (ax1) = plt.subplots(1,1, figsize=(20,5))\n",
    "ax1.plot(raw_data['Date'], raw_data['Close'])\n",
    "ax1.set_xticks(raw_data['Date'][::200])\n",
    "ax1.set_xticklabels(raw_data['Date'][::200], rotation=45)\n",
    "plt.show()"
   ]
  },
  {
   "cell_type": "code",
   "execution_count": 194,
   "metadata": {},
   "outputs": [
    {
     "data": {
      "text/plain": [
       "(5121, 11)"
      ]
     },
     "execution_count": 194,
     "metadata": {},
     "output_type": "execute_result"
    }
   ],
   "source": [
    "# training_columns = ['Open','Volume', \n",
    "#                     'Shifted Close Price 1', 'Shifted Close Price 2', 'Shifted Close Price 3',\n",
    "#                     'Shifted Close Price 4', 'Shifted Close Price 5', 'Shifted Close Price 6',\n",
    "#                     'Shifted Close Price 7', 'Shifted Close Price 8', 'Shifted Close Price 9',\n",
    "#                     'Close']\n",
    "training_set = raw_data.values\n",
    "training_set.shape"
   ]
  },
  {
   "cell_type": "code",
   "execution_count": 157,
   "metadata": {},
   "outputs": [
    {
     "data": {
      "text/plain": [
       "array([[108.428001],\n",
       "       [110.230003],\n",
       "       [115.480003],\n",
       "       ...,\n",
       "       [1048.699951],\n",
       "       [1055.75],\n",
       "       [1066.550049]], dtype=object)"
      ]
     },
     "execution_count": 157,
     "metadata": {},
     "output_type": "execute_result"
    }
   ],
   "source": [
    "training_set[:,-1:]"
   ]
  },
  {
   "cell_type": "code",
   "execution_count": 196,
   "metadata": {},
   "outputs": [],
   "source": [
    "from sklearn.preprocessing import MinMaxScaler\n",
    "sc_x = MinMaxScaler(feature_range = (0, 1))\n",
    "training_set_x_scaled = sc_x.fit_transform(training_set[:,1:11])\n",
    "sc_y = MinMaxScaler(feature_range = (0, 1))\n",
    "training_set_y_scaled = sc_y.fit_transform(training_set[:,10:11])\n",
    "# print(training_set_x_scaled.shape, training_set_y_scaled.shape)\n"
   ]
  },
  {
   "cell_type": "code",
   "execution_count": 144,
   "metadata": {},
   "outputs": [
    {
     "name": "stdout",
     "output_type": "stream",
     "text": [
      "(9, 5, 10) (9, 1)\n"
     ]
    }
   ],
   "source": [
    "X_train = []\n",
    "y_train = []\n",
    "for i in range(5, int(len(training_set_x_scaled))):\n",
    "    X_train.append(training_set_x_scaled[i-5:i, :])\n",
    "    y_train.append(training_set_y_scaled[i, :])\n",
    "X_train, y_train = np.array(X_train), np.array(y_train)\n",
    "print(X_train.shape, y_train.shape)"
   ]
  },
  {
   "cell_type": "code",
   "execution_count": 39,
   "metadata": {},
   "outputs": [],
   "source": [
    "from keras.models import Sequential\n",
    "from keras.layers import Dense\n",
    "from keras.layers import LSTM\n",
    "from keras.layers import Dropout"
   ]
  },
  {
   "cell_type": "code",
   "execution_count": 58,
   "metadata": {},
   "outputs": [],
   "source": [
    "def forecast_lstm(model, x, n_batch):\n",
    "    x = x.reshape(1, 5, 10)\n",
    "    forecast = model.predict(x, batch_size=n_batch)\n",
    "    return [x for x in forecast[0, :]]\n",
    "\n",
    "def make_forecast(model, n_batch, X_test, y_test):\n",
    "    forecasts = list()\n",
    "    for i in range(len(X_test)):\n",
    "        x,y = X_test[i], y_test[i]\n",
    "        forecast = forecast_lstm(model, x , n_batch)\n",
    "        forecasts.append(forecast)\n",
    "    return forecasts"
   ]
  },
  {
   "cell_type": "code",
   "execution_count": 43,
   "metadata": {},
   "outputs": [
    {
     "name": "stdout",
     "output_type": "stream",
     "text": [
      "3832/3832 [==============================] - 12s 3ms/step - loss: 3.5456e-04\n",
      "3832/3832 [==============================] - 12s 3ms/step - loss: 0.0015\n",
      "3832/3832 [==============================] - 12s 3ms/step - loss: 0.0015\n",
      "3832/3832 [==============================] - 12s 3ms/step - loss: 0.0015\n",
      "3832/3832 [==============================] - 12s 3ms/step - loss: 0.0015\n",
      "3832/3832 [==============================] - 12s 3ms/step - loss: 0.0015\n",
      "3832/3832 [==============================] - 12s 3ms/step - loss: 0.0015\n",
      "3832/3832 [==============================] - 13s 3ms/step - loss: 0.0015\n",
      "3832/3832 [==============================] - 13s 3ms/step - loss: 0.0015\n",
      "3832/3832 [==============================] - 13s 3ms/step - loss: 0.0015\n"
     ]
    }
   ],
   "source": [
    "n_neurons = 50\n",
    "n_batch = 1\n",
    "model = Sequential()\n",
    "model.add(LSTM(n_neurons, batch_input_shape=(n_batch, X_train.shape[1], X_train.shape[2]),\n",
    "               return_sequences=True, activation='relu', recurrent_activation='hard_sigmoid'))\n",
    "model.add(LSTM(n_neurons, return_sequences=True, activation='relu', \n",
    "               recurrent_activation='hard_sigmoid'))\n",
    "model.add(LSTM(n_neurons, activation='relu', recurrent_activation='hard_sigmoid'))\n",
    "model.add(Dropout(0.2))\n",
    "model.add(Dense(y_train.shape[1]))\n",
    "model.compile(loss='mean_squared_error', optimizer='adam')\n",
    "\n",
    "for i in range(10):\n",
    "    model.fit(X_train, y_train, epochs=1, batch_size=n_batch, verbose=1, shuffle=False)\n",
    "    model.reset_states()"
   ]
  },
  {
   "cell_type": "code",
   "execution_count": 202,
   "metadata": {},
   "outputs": [
    {
     "name": "stdout",
     "output_type": "stream",
     "text": [
      "(5121, 10, 1) (616, 10, 1)\n"
     ]
    }
   ],
   "source": [
    "train_sub_x = training_set_x_scaled[:]\n",
    "train_sub_y = training_set_y_scaled[:]\n",
    "# test_sub_x = training_set_x_scaled[4500:]\n",
    "# test_sub_y = training_set_y_scaled[4500:]\n",
    "\n",
    "\n",
    "x_train_cnn = train_sub_x.reshape(train_sub_x.shape[0],train_sub_x.shape[1],1)\n",
    "y_train_cnn = train_sub_y\n",
    "\n",
    "x_test_cnn = test_sub_x.reshape(test_sub_x.shape[0],test_sub_x.shape[1],1)\n",
    "y_test_cnn = test_sub_y\n",
    "    \n",
    "print(x_train_cnn.shape, x_test_cnn.shape)\n"
   ]
  },
  {
   "cell_type": "code",
   "execution_count": 160,
   "metadata": {},
   "outputs": [
    {
     "name": "stdout",
     "output_type": "stream",
     "text": [
      "Epoch 1/10\n",
      "4500/4500 [==============================] - 3s 728us/step - loss: 0.0192 - mean_absolute_error: 0.0192 - accuracy: 0.0000e+00\n",
      "Epoch 2/10\n",
      "4500/4500 [==============================] - 3s 759us/step - loss: 0.0154 - mean_absolute_error: 0.0154 - accuracy: 0.0000e+00\n",
      "Epoch 3/10\n",
      "4500/4500 [==============================] - 4s 815us/step - loss: 0.0134 - mean_absolute_error: 0.0134 - accuracy: 0.0000e+00\n",
      "Epoch 4/10\n",
      "4500/4500 [==============================] - 4s 879us/step - loss: 0.0132 - mean_absolute_error: 0.0132 - accuracy: 0.0000e+00\n",
      "Epoch 5/10\n",
      "4500/4500 [==============================] - 3s 754us/step - loss: 0.0122 - mean_absolute_error: 0.0122 - accuracy: 0.0000e+00\n",
      "Epoch 6/10\n",
      "4500/4500 [==============================] - 3s 748us/step - loss: 0.0117 - mean_absolute_error: 0.0117 - accuracy: 0.0000e+00\n",
      "Epoch 7/10\n",
      "4500/4500 [==============================] - 3s 752us/step - loss: 0.0119 - mean_absolute_error: 0.0119 - accuracy: 0.0000e+00\n",
      "Epoch 8/10\n",
      "4500/4500 [==============================] - 3s 737us/step - loss: 0.0114 - mean_absolute_error: 0.0114 - accuracy: 0.0000e+00\n",
      "Epoch 9/10\n",
      "4500/4500 [==============================] - 3s 740us/step - loss: 0.0112 - mean_absolute_error: 0.0112 - accuracy: 0.0000e+00\n",
      "Epoch 10/10\n",
      "4500/4500 [==============================] - 3s 737us/step - loss: 0.0111 - mean_absolute_error: 0.0111 - accuracy: 0.0000e+00\n"
     ]
    },
    {
     "data": {
      "text/plain": [
       "<tensorflow.python.keras.callbacks.History at 0x7fcdf6d6d400>"
      ]
     },
     "execution_count": 160,
     "metadata": {},
     "output_type": "execute_result"
    }
   ],
   "source": [
    "input_shape = x_train_cnn.shape[1]\n",
    "output_shape = y_train_cnn.shape[1]\n",
    "\n",
    "cnn_model = Sequential()\n",
    "cnn_model.add(Conv1D(filters=32, input_shape=(input_shape,1), kernel_size=3, activation='relu'))\n",
    "cnn_model.add(Conv1D(filters=64, kernel_size=1, activation='relu'))\n",
    "cnn_model.add(Conv1D(filters=128, kernel_size=1, activation='relu'))\n",
    "cnn_model.add(Flatten())\n",
    "cnn_model.add(Dense(units=32, activation='relu'))\n",
    "cnn_model.add(Dense(units=output_shape))\n",
    "\n",
    "early_stopping = tf.keras.callbacks.EarlyStopping(monitor='loss',\n",
    "                                                patience=5,\n",
    "                                                mode='min')\n",
    "cnn_model.compile(loss=tf.keras.losses.MeanAbsoluteError(),\n",
    "            optimizer=tf.optimizers.Adam(),\n",
    "            metrics=[tf.keras.metrics.MeanAbsoluteError(), tf.keras.metrics.Accuracy()])\n",
    "cnn_model.fit(x_train_cnn, y_train_cnn, epochs=10, batch_size=1)"
   ]
  },
  {
   "cell_type": "code",
   "execution_count": 204,
   "metadata": {},
   "outputs": [
    {
     "name": "stdout",
     "output_type": "stream",
     "text": [
      "5121 5         92.741402\n",
      "6         93.247299\n",
      "7        100.702003\n",
      "8         99.586304\n",
      "9        104.845001\n",
      "           ...     \n",
      "5190    1008.250000\n",
      "5191    1017.650024\n",
      "5192    1048.699951\n",
      "5193    1055.750000\n",
      "5194    1066.550049\n",
      "Name: Close, Length: 5121, dtype: float64\n"
     ]
    },
    {
     "data": {
      "text/plain": [
       "<matplotlib.legend.Legend at 0x7fcdf75f3c40>"
      ]
     },
     "execution_count": 204,
     "metadata": {},
     "output_type": "execute_result"
    },
    {
     "data": {
      "image/png": "[encoded data removed]",
      "text/plain": [
       "<Figure size 432x288 with 1 Axes>"
      ]
     },
     "metadata": {
      "needs_background": "light"
     },
     "output_type": "display_data"
    }
   ],
   "source": [
    "print(len(x_train_cnn), raw_data['Close'])\n",
    "y_pred = cnn_model.predict(x_train_cnn)\n",
    "y_pred = sc_y.inverse_transform(y_pred)\n",
    "y_actual = raw_data['Close'].values\n",
    "\n",
    "plt.plot(y_pred, label='prediction')\n",
    "plt.plot(y_actual, label='actual')\n",
    "plt.legend()"
   ]
  },
  {
   "cell_type": "code",
   "execution_count": 70,
   "metadata": {},
   "outputs": [
    {
     "name": "stdout",
     "output_type": "stream",
     "text": [
      "3832\n"
     ]
    },
    {
     "data": {
      "image/png": "[encoded data removed]",
      "text/plain": [
       "<Figure size 432x288 with 1 Axes>"
      ]
     },
     "metadata": {
      "needs_background": "light"
     },
     "output_type": "display_data"
    }
   ],
   "source": [
    "plt.plot(raw_data['Close'].values)\n",
    "print(len(X_train))\n",
    "for i in range(len(predicted_stock_price)):\n",
    "    off_s = len(X_train) + i\n",
    "    off_e = off_s + len(predicted_stock_price[i])\n",
    "    xaxis = [x for x in range(off_s, off_e)]\n",
    "    yaxis = predicted_stock_price[i]\n",
    "    plt.plot(xaxis, yaxis, color='red')\n",
    "plt.show()"
   ]
  },
  {
   "cell_type": "code",
   "execution_count": 311,
   "metadata": {},
   "outputs": [
    {
     "name": "stdout",
     "output_type": "stream",
     "text": [
      "367 643.0 [605.98004 613.13544 616.4458  621.5923  625.75696]\n"
     ]
    }
   ],
   "source": [
    "print(len(X_train), raw_data['Close Price'].values[len(X_train)], predicted_stock_price[0])"
   ]
  },
  {
   "cell_type": "code",
   "execution_count": 149,
   "metadata": {},
   "outputs": [
    {
     "data": {
      "text/html": [
       "<div>\n",
       "<style scoped>\n",
       "    .dataframe tbody tr th:only-of-type {\n",
       "        vertical-align: middle;\n",
       "    }\n",
       "\n",
       "    .dataframe tbody tr th {\n",
       "        vertical-align: top;\n",
       "    }\n",
       "\n",
       "    .dataframe thead th {\n",
       "        text-align: right;\n",
       "    }\n",
       "</style>\n",
       "<table border=\"1\" class=\"dataframe\">\n",
       "  <thead>\n",
       "    <tr style=\"text-align: right;\">\n",
       "      <th></th>\n",
       "      <th>Date</th>\n",
       "      <th>Open</th>\n",
       "      <th>High</th>\n",
       "      <th>Low</th>\n",
       "      <th>Close</th>\n",
       "      <th>Adj Close</th>\n",
       "      <th>Volume</th>\n",
       "    </tr>\n",
       "  </thead>\n",
       "  <tbody>\n",
       "    <tr>\n",
       "      <th>0</th>\n",
       "      <td>2000-01-10</td>\n",
       "      <td>102.542999</td>\n",
       "      <td>110.746002</td>\n",
       "      <td>94.339798</td>\n",
       "      <td>107.478996</td>\n",
       "      <td>3.551731</td>\n",
       "      <td>30230400.0</td>\n",
       "    </tr>\n",
       "    <tr>\n",
       "      <th>1</th>\n",
       "      <td>2000-01-11</td>\n",
       "      <td>103.125000</td>\n",
       "      <td>107.811996</td>\n",
       "      <td>98.880898</td>\n",
       "      <td>98.880898</td>\n",
       "      <td>3.267598</td>\n",
       "      <td>15658368.0</td>\n",
       "    </tr>\n",
       "    <tr>\n",
       "      <th>2</th>\n",
       "      <td>2000-01-12</td>\n",
       "      <td>93.359398</td>\n",
       "      <td>104.289001</td>\n",
       "      <td>91.921898</td>\n",
       "      <td>102.167999</td>\n",
       "      <td>3.376225</td>\n",
       "      <td>25993472.0</td>\n",
       "    </tr>\n",
       "    <tr>\n",
       "      <th>3</th>\n",
       "      <td>2000-01-13</td>\n",
       "      <td>102.344002</td>\n",
       "      <td>102.726997</td>\n",
       "      <td>93.994904</td>\n",
       "      <td>94.457802</td>\n",
       "      <td>3.121434</td>\n",
       "      <td>20038400.0</td>\n",
       "    </tr>\n",
       "    <tr>\n",
       "      <th>4</th>\n",
       "      <td>2000-01-14</td>\n",
       "      <td>95.695297</td>\n",
       "      <td>96.070297</td>\n",
       "      <td>87.523399</td>\n",
       "      <td>95.128098</td>\n",
       "      <td>3.143584</td>\n",
       "      <td>16040064.0</td>\n",
       "    </tr>\n",
       "    <tr>\n",
       "      <th>...</th>\n",
       "      <td>...</td>\n",
       "      <td>...</td>\n",
       "      <td>...</td>\n",
       "      <td>...</td>\n",
       "      <td>...</td>\n",
       "      <td>...</td>\n",
       "      <td>...</td>\n",
       "    </tr>\n",
       "    <tr>\n",
       "      <th>5190</th>\n",
       "      <td>2020-09-30</td>\n",
       "      <td>1009.000000</td>\n",
       "      <td>1023.950012</td>\n",
       "      <td>1005.000000</td>\n",
       "      <td>1008.250000</td>\n",
       "      <td>1008.250000</td>\n",
       "      <td>8048817.0</td>\n",
       "    </tr>\n",
       "    <tr>\n",
       "      <th>5191</th>\n",
       "      <td>2020-10-01</td>\n",
       "      <td>1020.599976</td>\n",
       "      <td>1026.500000</td>\n",
       "      <td>1011.750000</td>\n",
       "      <td>1017.650024</td>\n",
       "      <td>1017.650024</td>\n",
       "      <td>5563358.0</td>\n",
       "    </tr>\n",
       "    <tr>\n",
       "      <th>5192</th>\n",
       "      <td>2020-10-05</td>\n",
       "      <td>1018.049988</td>\n",
       "      <td>1054.900024</td>\n",
       "      <td>1018.049988</td>\n",
       "      <td>1048.699951</td>\n",
       "      <td>1048.699951</td>\n",
       "      <td>14212509.0</td>\n",
       "    </tr>\n",
       "    <tr>\n",
       "      <th>5193</th>\n",
       "      <td>2020-10-06</td>\n",
       "      <td>1055.000000</td>\n",
       "      <td>1060.000000</td>\n",
       "      <td>1031.349976</td>\n",
       "      <td>1055.750000</td>\n",
       "      <td>1055.750000</td>\n",
       "      <td>9090819.0</td>\n",
       "    </tr>\n",
       "    <tr>\n",
       "      <th>5194</th>\n",
       "      <td>2020-10-07</td>\n",
       "      <td>1044.900024</td>\n",
       "      <td>1072.000000</td>\n",
       "      <td>1035.500000</td>\n",
       "      <td>1066.550049</td>\n",
       "      <td>1066.550049</td>\n",
       "      <td>9284008.0</td>\n",
       "    </tr>\n",
       "  </tbody>\n",
       "</table>\n",
       "<p>5126 rows × 7 columns</p>\n",
       "</div>"
      ],
      "text/plain": [
       "            Date         Open         High          Low        Close  \\\n",
       "0     2000-01-10   102.542999   110.746002    94.339798   107.478996   \n",
       "1     2000-01-11   103.125000   107.811996    98.880898    98.880898   \n",
       "2     2000-01-12    93.359398   104.289001    91.921898   102.167999   \n",
       "3     2000-01-13   102.344002   102.726997    93.994904    94.457802   \n",
       "4     2000-01-14    95.695297    96.070297    87.523399    95.128098   \n",
       "...          ...          ...          ...          ...          ...   \n",
       "5190  2020-09-30  1009.000000  1023.950012  1005.000000  1008.250000   \n",
       "5191  2020-10-01  1020.599976  1026.500000  1011.750000  1017.650024   \n",
       "5192  2020-10-05  1018.049988  1054.900024  1018.049988  1048.699951   \n",
       "5193  2020-10-06  1055.000000  1060.000000  1031.349976  1055.750000   \n",
       "5194  2020-10-07  1044.900024  1072.000000  1035.500000  1066.550049   \n",
       "\n",
       "        Adj Close      Volume  \n",
       "0        3.551731  30230400.0  \n",
       "1        3.267598  15658368.0  \n",
       "2        3.376225  25993472.0  \n",
       "3        3.121434  20038400.0  \n",
       "4        3.143584  16040064.0  \n",
       "...           ...         ...  \n",
       "5190  1008.250000   8048817.0  \n",
       "5191  1017.650024   5563358.0  \n",
       "5192  1048.699951  14212509.0  \n",
       "5193  1055.750000   9090819.0  \n",
       "5194  1066.550049   9284008.0  \n",
       "\n",
       "[5126 rows x 7 columns]"
      ]
     },
     "execution_count": 149,
     "metadata": {},
     "output_type": "execute_result"
    }
   ],
   "source": [
    "raw_data = pd.read_csv('INFY.NS.csv')\n",
    "raw_data = raw_data.dropna()\n",
    "raw_data = raw_data.drop(['Date','Symbol','Series','LTP','Turnover\\n(in Lakhs)'], axis=1)\n",
    "raw_data['Volume'] = raw_data['Volume'].str.replace(',', '')\n",
    "raw_data['Volume'] = raw_data['Volume'].astype(int)\n",
    "raw_data"
   ]
  },
  {
   "cell_type": "code",
   "execution_count": 170,
   "metadata": {},
   "outputs": [
    {
     "name": "stdout",
     "output_type": "stream",
     "text": [
      "INFO:tensorflow:Assets written to: cnn_model/assets\n"
     ]
    }
   ],
   "source": [
    "from tensorflow import keras\n",
    "cnn_model.save('cnn_model')\n",
    "cnn_model = keras.models.load_model('cnn_model')"
   ]
  },
  {
   "cell_type": "code",
   "execution_count": 171,
   "metadata": {},
   "outputs": [],
   "source": [
    "import numpy as np\n",
    "from flask import Flask, render_template,request\n",
    "import pickle#Initialize the flask App\n",
    "app = Flask(__name__)\n",
    "cnn_model = keras.models.load_model('cnn_model')"
   ]
  },
  {
   "cell_type": "code",
   "execution_count": 172,
   "metadata": {},
   "outputs": [],
   "source": [
    "#default page of our web-app\n",
    "@app.route('/')\n",
    "def home():\n",
    "    return render_template('index.html')"
   ]
  },
  {
   "cell_type": "code",
   "execution_count": 175,
   "metadata": {},
   "outputs": [],
   "source": [
    "#To use the predict button in our web-app\n",
    "@app.route('/predict',methods=['POST'])\n",
    "def predict_x():\n",
    "    #For rendering results on HTML GUI\n",
    "    int_features = [float(x) for x in request.form.values()]\n",
    "    final_features = [np.array(int_features)]\n",
    "    prediction = model.predict(final_features)\n",
    "    output = round(prediction[0], 2) \n",
    "    return render_template('index.html', prediction_text='CO2    Emission of the vehicle is :{}'.format(output))"
   ]
  },
  {
   "cell_type": "code",
   "execution_count": 176,
   "metadata": {},
   "outputs": [
    {
     "name": "stdout",
     "output_type": "stream",
     "text": [
      " * Serving Flask app \"__main__\" (lazy loading)\n",
      " * Environment: production\n",
      "\u001b[31m   WARNING: This is a development server. Do not use it in a production deployment.\u001b[0m\n",
      "\u001b[2m   Use a production WSGI server instead.\u001b[0m\n",
      " * Debug mode: on\n"
     ]
    },
    {
     "name": "stderr",
     "output_type": "stream",
     "text": [
      " * Running on http://127.0.0.1:5000/ (Press CTRL+C to quit)\n",
      " * Restarting with inotify reloader\n"
     ]
    },
    {
     "ename": "SystemExit",
     "evalue": "1",
     "output_type": "error",
     "traceback": [
      "An exception has occurred, use %tb to see the full traceback.\n",
      "\u001b[0;31mSystemExit\u001b[0m\u001b[0;31m:\u001b[0m 1\n"
     ]
    },
    {
     "name": "stderr",
     "output_type": "stream",
     "text": [
      "/home/akshat/anaconda3/lib/python3.8/site-packages/IPython/core/interactiveshell.py:3351: UserWarning: To exit: use 'exit', 'quit', or Ctrl-D.\n",
      "  warn(\"To exit: use 'exit', 'quit', or Ctrl-D.\", stacklevel=1)\n"
     ]
    }
   ],
   "source": [
    "app.run(debug=True)"
   ]
  },
  {
   "cell_type": "code",
   "execution_count": 189,
   "metadata": {},
   "outputs": [
    {
     "data": {
      "image/png": "[encoded data removed]",
      "text/plain": [
       "<Figure size 1440x360 with 1 Axes>"
      ]
     },
     "metadata": {
      "needs_background": "light"
     },
     "output_type": "display_data"
    }
   ],
   "source": [
    "import numpy, matplotlib\n",
    "fig, (ax1) = plt.subplots(1,1, figsize=(20,5))\n",
    "df1 = pd.DataFrame(raw_data['Close'].values, index=raw_data['Date'], columns=['events'])\n",
    "df2 = pd.DataFrame(y_pred, index=raw_data['Date'].values[4500:], columns=['events'])\n",
    "ax1.plot(df1.index, df1.events)\n",
    "ax1.plot(df2.index, df2.events)\n",
    "ax1.set_xticks(raw_data['Date'][::200])\n",
    "ax1.set_xticklabels(raw_data['Date'][::200], rotation=45)\n",
    "plt.show()"
   ]
  },
  {
   "cell_type": "code",
   "execution_count": null,
   "metadata": {},
   "outputs": [],
   "source": []
  }
 ],
 "metadata": {
  "kernelspec": {
   "display_name": "Python 3",
   "language": "python",
   "name": "python3"
  },
  "language_info": {
   "codemirror_mode": {
    "name": "ipython",
    "version": 3
   },
   "file_extension": ".py",
   "mimetype": "text/x-python",
   "name": "python",
   "nbconvert_exporter": "python",
   "pygments_lexer": "ipython3",
   "version": "3.8.3"
  }
 },
 "nbformat": 4,
 "nbformat_minor": 4
}
