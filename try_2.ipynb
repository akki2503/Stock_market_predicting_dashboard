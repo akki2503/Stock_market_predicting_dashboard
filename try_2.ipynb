{
 "cells": [
  {
   "cell_type": "code",
   "execution_count": 1,
   "metadata": {},
   "outputs": [],
   "source": [
    "import numpy as np\n",
    "import pandas as pd\n",
    "\n",
    "import matplotlib.pyplot as plt"
   ]
  },
  {
   "cell_type": "code",
   "execution_count": 4,
   "metadata": {},
   "outputs": [
    {
     "data": {
      "text/html": [
       "<div>\n",
       "<style scoped>\n",
       "    .dataframe tbody tr th:only-of-type {\n",
       "        vertical-align: middle;\n",
       "    }\n",
       "\n",
       "    .dataframe tbody tr th {\n",
       "        vertical-align: top;\n",
       "    }\n",
       "\n",
       "    .dataframe thead th {\n",
       "        text-align: right;\n",
       "    }\n",
       "</style>\n",
       "<table border=\"1\" class=\"dataframe\">\n",
       "  <thead>\n",
       "    <tr style=\"text-align: right;\">\n",
       "      <th></th>\n",
       "      <th>Date</th>\n",
       "      <th>Open</th>\n",
       "      <th>High</th>\n",
       "      <th>Low</th>\n",
       "      <th>Close</th>\n",
       "      <th>Adj Close</th>\n",
       "      <th>Volume</th>\n",
       "    </tr>\n",
       "  </thead>\n",
       "  <tbody>\n",
       "    <tr>\n",
       "      <th>0</th>\n",
       "      <td>2000-01-10</td>\n",
       "      <td>102.542999</td>\n",
       "      <td>110.746002</td>\n",
       "      <td>94.339798</td>\n",
       "      <td>107.478996</td>\n",
       "      <td>3.551731</td>\n",
       "      <td>30230400.0</td>\n",
       "    </tr>\n",
       "    <tr>\n",
       "      <th>1</th>\n",
       "      <td>2000-01-11</td>\n",
       "      <td>103.125000</td>\n",
       "      <td>107.811996</td>\n",
       "      <td>98.880898</td>\n",
       "      <td>98.880898</td>\n",
       "      <td>3.267598</td>\n",
       "      <td>15658368.0</td>\n",
       "    </tr>\n",
       "    <tr>\n",
       "      <th>2</th>\n",
       "      <td>2000-01-12</td>\n",
       "      <td>93.359398</td>\n",
       "      <td>104.289001</td>\n",
       "      <td>91.921898</td>\n",
       "      <td>102.167999</td>\n",
       "      <td>3.376225</td>\n",
       "      <td>25993472.0</td>\n",
       "    </tr>\n",
       "    <tr>\n",
       "      <th>3</th>\n",
       "      <td>2000-01-13</td>\n",
       "      <td>102.344002</td>\n",
       "      <td>102.726997</td>\n",
       "      <td>93.994904</td>\n",
       "      <td>94.457802</td>\n",
       "      <td>3.121434</td>\n",
       "      <td>20038400.0</td>\n",
       "    </tr>\n",
       "    <tr>\n",
       "      <th>4</th>\n",
       "      <td>2000-01-14</td>\n",
       "      <td>95.695297</td>\n",
       "      <td>96.070297</td>\n",
       "      <td>87.523399</td>\n",
       "      <td>95.128098</td>\n",
       "      <td>3.143584</td>\n",
       "      <td>16040064.0</td>\n",
       "    </tr>\n",
       "    <tr>\n",
       "      <th>...</th>\n",
       "      <td>...</td>\n",
       "      <td>...</td>\n",
       "      <td>...</td>\n",
       "      <td>...</td>\n",
       "      <td>...</td>\n",
       "      <td>...</td>\n",
       "      <td>...</td>\n",
       "    </tr>\n",
       "    <tr>\n",
       "      <th>5190</th>\n",
       "      <td>2020-09-30</td>\n",
       "      <td>1009.000000</td>\n",
       "      <td>1023.950012</td>\n",
       "      <td>1005.000000</td>\n",
       "      <td>1008.250000</td>\n",
       "      <td>1008.250000</td>\n",
       "      <td>8048817.0</td>\n",
       "    </tr>\n",
       "    <tr>\n",
       "      <th>5191</th>\n",
       "      <td>2020-10-01</td>\n",
       "      <td>1020.599976</td>\n",
       "      <td>1026.500000</td>\n",
       "      <td>1011.750000</td>\n",
       "      <td>1017.650024</td>\n",
       "      <td>1017.650024</td>\n",
       "      <td>5563358.0</td>\n",
       "    </tr>\n",
       "    <tr>\n",
       "      <th>5192</th>\n",
       "      <td>2020-10-05</td>\n",
       "      <td>1018.049988</td>\n",
       "      <td>1054.900024</td>\n",
       "      <td>1018.049988</td>\n",
       "      <td>1048.699951</td>\n",
       "      <td>1048.699951</td>\n",
       "      <td>14212509.0</td>\n",
       "    </tr>\n",
       "    <tr>\n",
       "      <th>5193</th>\n",
       "      <td>2020-10-06</td>\n",
       "      <td>1055.000000</td>\n",
       "      <td>1060.000000</td>\n",
       "      <td>1031.349976</td>\n",
       "      <td>1055.750000</td>\n",
       "      <td>1055.750000</td>\n",
       "      <td>9090819.0</td>\n",
       "    </tr>\n",
       "    <tr>\n",
       "      <th>5194</th>\n",
       "      <td>2020-10-07</td>\n",
       "      <td>1044.900024</td>\n",
       "      <td>1072.000000</td>\n",
       "      <td>1035.500000</td>\n",
       "      <td>1066.550049</td>\n",
       "      <td>1066.550049</td>\n",
       "      <td>9284008.0</td>\n",
       "    </tr>\n",
       "  </tbody>\n",
       "</table>\n",
       "<p>5126 rows × 7 columns</p>\n",
       "</div>"
      ],
      "text/plain": [
       "            Date         Open         High          Low        Close  \\\n",
       "0     2000-01-10   102.542999   110.746002    94.339798   107.478996   \n",
       "1     2000-01-11   103.125000   107.811996    98.880898    98.880898   \n",
       "2     2000-01-12    93.359398   104.289001    91.921898   102.167999   \n",
       "3     2000-01-13   102.344002   102.726997    93.994904    94.457802   \n",
       "4     2000-01-14    95.695297    96.070297    87.523399    95.128098   \n",
       "...          ...          ...          ...          ...          ...   \n",
       "5190  2020-09-30  1009.000000  1023.950012  1005.000000  1008.250000   \n",
       "5191  2020-10-01  1020.599976  1026.500000  1011.750000  1017.650024   \n",
       "5192  2020-10-05  1018.049988  1054.900024  1018.049988  1048.699951   \n",
       "5193  2020-10-06  1055.000000  1060.000000  1031.349976  1055.750000   \n",
       "5194  2020-10-07  1044.900024  1072.000000  1035.500000  1066.550049   \n",
       "\n",
       "        Adj Close      Volume  \n",
       "0        3.551731  30230400.0  \n",
       "1        3.267598  15658368.0  \n",
       "2        3.376225  25993472.0  \n",
       "3        3.121434  20038400.0  \n",
       "4        3.143584  16040064.0  \n",
       "...           ...         ...  \n",
       "5190  1008.250000   8048817.0  \n",
       "5191  1017.650024   5563358.0  \n",
       "5192  1048.699951  14212509.0  \n",
       "5193  1055.750000   9090819.0  \n",
       "5194  1066.550049   9284008.0  \n",
       "\n",
       "[5126 rows x 7 columns]"
      ]
     },
     "execution_count": 4,
     "metadata": {},
     "output_type": "execute_result"
    }
   ],
   "source": [
    "raw_data = pd.read_csv('INFY.NS.csv')\n",
    "raw_data = raw_data.dropna()\n",
    "raw_data"
   ]
  },
  {
   "cell_type": "code",
   "execution_count": 5,
   "metadata": {},
   "outputs": [
    {
     "data": {
      "text/html": [
       "<div>\n",
       "<style scoped>\n",
       "    .dataframe tbody tr th:only-of-type {\n",
       "        vertical-align: middle;\n",
       "    }\n",
       "\n",
       "    .dataframe tbody tr th {\n",
       "        vertical-align: top;\n",
       "    }\n",
       "\n",
       "    .dataframe thead th {\n",
       "        text-align: right;\n",
       "    }\n",
       "</style>\n",
       "<table border=\"1\" class=\"dataframe\">\n",
       "  <thead>\n",
       "    <tr style=\"text-align: right;\">\n",
       "      <th></th>\n",
       "      <th>Shifted Close Price 0</th>\n",
       "      <th>Shifted Close Price 1</th>\n",
       "      <th>Shifted Close Price 2</th>\n",
       "      <th>Shifted Close Price 3</th>\n",
       "      <th>Shifted Close Price 4</th>\n",
       "      <th>Shifted Close Price 5</th>\n",
       "      <th>Shifted Close Price 6</th>\n",
       "      <th>Shifted Close Price 7</th>\n",
       "      <th>Shifted Close Price 8</th>\n",
       "      <th>Shifted Close Price 9</th>\n",
       "    </tr>\n",
       "  </thead>\n",
       "  <tbody>\n",
       "    <tr>\n",
       "      <th>0</th>\n",
       "      <td>107.478996</td>\n",
       "      <td>98.880898</td>\n",
       "      <td>102.167999</td>\n",
       "      <td>94.457802</td>\n",
       "      <td>95.128098</td>\n",
       "      <td>92.741402</td>\n",
       "      <td>93.247299</td>\n",
       "      <td>100.702003</td>\n",
       "      <td>99.586304</td>\n",
       "      <td>104.845001</td>\n",
       "    </tr>\n",
       "    <tr>\n",
       "      <th>1</th>\n",
       "      <td>98.880898</td>\n",
       "      <td>102.167999</td>\n",
       "      <td>94.457802</td>\n",
       "      <td>95.128098</td>\n",
       "      <td>92.741402</td>\n",
       "      <td>93.247299</td>\n",
       "      <td>100.702003</td>\n",
       "      <td>99.586304</td>\n",
       "      <td>104.845001</td>\n",
       "      <td>108.428001</td>\n",
       "    </tr>\n",
       "    <tr>\n",
       "      <th>2</th>\n",
       "      <td>102.167999</td>\n",
       "      <td>94.457802</td>\n",
       "      <td>95.128098</td>\n",
       "      <td>92.741402</td>\n",
       "      <td>93.247299</td>\n",
       "      <td>100.702003</td>\n",
       "      <td>99.586304</td>\n",
       "      <td>104.845001</td>\n",
       "      <td>108.428001</td>\n",
       "      <td>110.230003</td>\n",
       "    </tr>\n",
       "    <tr>\n",
       "      <th>3</th>\n",
       "      <td>94.457802</td>\n",
       "      <td>95.128098</td>\n",
       "      <td>92.741402</td>\n",
       "      <td>93.247299</td>\n",
       "      <td>100.702003</td>\n",
       "      <td>99.586304</td>\n",
       "      <td>104.845001</td>\n",
       "      <td>108.428001</td>\n",
       "      <td>110.230003</td>\n",
       "      <td>115.480003</td>\n",
       "    </tr>\n",
       "    <tr>\n",
       "      <th>4</th>\n",
       "      <td>95.128098</td>\n",
       "      <td>92.741402</td>\n",
       "      <td>93.247299</td>\n",
       "      <td>100.702003</td>\n",
       "      <td>99.586304</td>\n",
       "      <td>104.845001</td>\n",
       "      <td>108.428001</td>\n",
       "      <td>110.230003</td>\n",
       "      <td>115.480003</td>\n",
       "      <td>118.930000</td>\n",
       "    </tr>\n",
       "    <tr>\n",
       "      <th>...</th>\n",
       "      <td>...</td>\n",
       "      <td>...</td>\n",
       "      <td>...</td>\n",
       "      <td>...</td>\n",
       "      <td>...</td>\n",
       "      <td>...</td>\n",
       "      <td>...</td>\n",
       "      <td>...</td>\n",
       "      <td>...</td>\n",
       "      <td>...</td>\n",
       "    </tr>\n",
       "    <tr>\n",
       "      <th>5181</th>\n",
       "      <td>1011.000000</td>\n",
       "      <td>1002.150024</td>\n",
       "      <td>1009.900024</td>\n",
       "      <td>1007.500000</td>\n",
       "      <td>1019.750000</td>\n",
       "      <td>975.400024</td>\n",
       "      <td>1011.450012</td>\n",
       "      <td>1010.400024</td>\n",
       "      <td>1009.000000</td>\n",
       "      <td>1008.250000</td>\n",
       "    </tr>\n",
       "    <tr>\n",
       "      <th>5182</th>\n",
       "      <td>1002.150024</td>\n",
       "      <td>1009.900024</td>\n",
       "      <td>1007.500000</td>\n",
       "      <td>1019.750000</td>\n",
       "      <td>975.400024</td>\n",
       "      <td>1011.450012</td>\n",
       "      <td>1010.400024</td>\n",
       "      <td>1009.000000</td>\n",
       "      <td>1008.250000</td>\n",
       "      <td>1017.650024</td>\n",
       "    </tr>\n",
       "    <tr>\n",
       "      <th>5183</th>\n",
       "      <td>1009.900024</td>\n",
       "      <td>1007.500000</td>\n",
       "      <td>1019.750000</td>\n",
       "      <td>975.400024</td>\n",
       "      <td>1011.450012</td>\n",
       "      <td>1010.400024</td>\n",
       "      <td>1009.000000</td>\n",
       "      <td>1008.250000</td>\n",
       "      <td>1017.650024</td>\n",
       "      <td>1048.699951</td>\n",
       "    </tr>\n",
       "    <tr>\n",
       "      <th>5184</th>\n",
       "      <td>1007.500000</td>\n",
       "      <td>1019.750000</td>\n",
       "      <td>975.400024</td>\n",
       "      <td>1011.450012</td>\n",
       "      <td>1010.400024</td>\n",
       "      <td>1009.000000</td>\n",
       "      <td>1008.250000</td>\n",
       "      <td>1017.650024</td>\n",
       "      <td>1048.699951</td>\n",
       "      <td>1055.750000</td>\n",
       "    </tr>\n",
       "    <tr>\n",
       "      <th>5185</th>\n",
       "      <td>1019.750000</td>\n",
       "      <td>975.400024</td>\n",
       "      <td>1011.450012</td>\n",
       "      <td>1010.400024</td>\n",
       "      <td>1009.000000</td>\n",
       "      <td>1008.250000</td>\n",
       "      <td>1017.650024</td>\n",
       "      <td>1048.699951</td>\n",
       "      <td>1055.750000</td>\n",
       "      <td>1066.550049</td>\n",
       "    </tr>\n",
       "  </tbody>\n",
       "</table>\n",
       "<p>5117 rows × 10 columns</p>\n",
       "</div>"
      ],
      "text/plain": [
       "      Shifted Close Price 0  Shifted Close Price 1  Shifted Close Price 2  \\\n",
       "0                107.478996              98.880898             102.167999   \n",
       "1                 98.880898             102.167999              94.457802   \n",
       "2                102.167999              94.457802              95.128098   \n",
       "3                 94.457802              95.128098              92.741402   \n",
       "4                 95.128098              92.741402              93.247299   \n",
       "...                     ...                    ...                    ...   \n",
       "5181            1011.000000            1002.150024            1009.900024   \n",
       "5182            1002.150024            1009.900024            1007.500000   \n",
       "5183            1009.900024            1007.500000            1019.750000   \n",
       "5184            1007.500000            1019.750000             975.400024   \n",
       "5185            1019.750000             975.400024            1011.450012   \n",
       "\n",
       "      Shifted Close Price 3  Shifted Close Price 4  Shifted Close Price 5  \\\n",
       "0                 94.457802              95.128098              92.741402   \n",
       "1                 95.128098              92.741402              93.247299   \n",
       "2                 92.741402              93.247299             100.702003   \n",
       "3                 93.247299             100.702003              99.586304   \n",
       "4                100.702003              99.586304             104.845001   \n",
       "...                     ...                    ...                    ...   \n",
       "5181            1007.500000            1019.750000             975.400024   \n",
       "5182            1019.750000             975.400024            1011.450012   \n",
       "5183             975.400024            1011.450012            1010.400024   \n",
       "5184            1011.450012            1010.400024            1009.000000   \n",
       "5185            1010.400024            1009.000000            1008.250000   \n",
       "\n",
       "      Shifted Close Price 6  Shifted Close Price 7  Shifted Close Price 8  \\\n",
       "0                 93.247299             100.702003              99.586304   \n",
       "1                100.702003              99.586304             104.845001   \n",
       "2                 99.586304             104.845001             108.428001   \n",
       "3                104.845001             108.428001             110.230003   \n",
       "4                108.428001             110.230003             115.480003   \n",
       "...                     ...                    ...                    ...   \n",
       "5181            1011.450012            1010.400024            1009.000000   \n",
       "5182            1010.400024            1009.000000            1008.250000   \n",
       "5183            1009.000000            1008.250000            1017.650024   \n",
       "5184            1008.250000            1017.650024            1048.699951   \n",
       "5185            1017.650024            1048.699951            1055.750000   \n",
       "\n",
       "      Shifted Close Price 9  \n",
       "0                104.845001  \n",
       "1                108.428001  \n",
       "2                110.230003  \n",
       "3                115.480003  \n",
       "4                118.930000  \n",
       "...                     ...  \n",
       "5181            1008.250000  \n",
       "5182            1017.650024  \n",
       "5183            1048.699951  \n",
       "5184            1055.750000  \n",
       "5185            1066.550049  \n",
       "\n",
       "[5117 rows x 10 columns]"
      ]
     },
     "execution_count": 5,
     "metadata": {},
     "output_type": "execute_result"
    }
   ],
   "source": [
    "n_seq = 10\n",
    "new_data = pd.DataFrame()\n",
    "for i in range(n_seq):\n",
    "    var_name = 'Shifted Close Price ' + str(i)\n",
    "    new_data[var_name] = raw_data['Close'].shift(-i)\n",
    "#     raw_data['Shifted Close Price 2'] = raw_data['Close Price'].shift(-2)\n",
    "#     raw_data['Shifted Close Price 3'] = raw_data['Close Price'].shift(-3)\n",
    "#     raw_data['Shifted Close Price 4'] = raw_data['Close Price'].shift(-4)\n",
    "#     raw_data['Shifted Close Price 5'] = raw_data['Close Price'].shift(-5)\n",
    "new_data = new_data.dropna()\n",
    "new_data"
   ]
  },
  {
   "cell_type": "code",
   "execution_count": 207,
   "metadata": {},
   "outputs": [
    {
     "data": {
      "image/png": "[encoded data removed]",
      "text/plain": [
       "<Figure size 1440x360 with 1 Axes>"
      ]
     },
     "metadata": {
      "needs_background": "light"
     },
     "output_type": "display_data"
    }
   ],
   "source": [
    "fig, (ax1) = plt.subplots(1,1, figsize=(20,5))\n",
    "ax1.plot(raw_data['Date'], raw_data['Prev Close'])\n",
    "ax1.set_xticks(raw_data['Date'][::20])\n",
    "ax1.set_xticklabels(raw_data['Date'][::20], rotation=45)\n",
    "plt.show()"
   ]
  },
  {
   "cell_type": "code",
   "execution_count": 242,
   "metadata": {},
   "outputs": [
    {
     "name": "stdout",
     "output_type": "stream",
     "text": [
      "(491, 8)\n"
     ]
    }
   ],
   "source": [
    "training_columns = ['Prev Close','Average Price','Total Traded Quantity', \n",
    "                    'Shifted Close Price 1', 'Shifted Close Price 2', 'Shifted Close Price 3',\n",
    "                    'Shifted Close Price 4', 'Shifted Close Price 5']\n",
    "training_set = raw_data[training_columns].values\n",
    "print(training_set.shape)"
   ]
  },
  {
   "cell_type": "code",
   "execution_count": 243,
   "metadata": {},
   "outputs": [
    {
     "name": "stdout",
     "output_type": "stream",
     "text": [
      "(491, 3) (491, 5)\n"
     ]
    }
   ],
   "source": [
    "from sklearn.preprocessing import MinMaxScaler\n",
    "sc_x = MinMaxScaler(feature_range = (0, 1))\n",
    "training_set_x_scaled = sc_x.fit_transform(training_set[:,:3])\n",
    "sc_y = MinMaxScaler(feature_range = (0, 1))\n",
    "training_set_y_scaled = sc_y.fit_transform(training_set[:,3:])\n",
    "print(training_set_x_scaled.shape, training_set_y_scaled.shape)"
   ]
  },
  {
   "cell_type": "code",
   "execution_count": 264,
   "metadata": {},
   "outputs": [
    {
     "name": "stdout",
     "output_type": "stream",
     "text": [
      "(367, 5, 3) (367, 5)\n"
     ]
    }
   ],
   "source": [
    "X_train = []\n",
    "y_train = []\n",
    "for i in range(5, int(len(training_set_scaled)*0.75)):\n",
    "    X_train.append(training_set_x_scaled[i-5:i, :])\n",
    "    y_train.append(training_set_y_scaled[i, :])\n",
    "X_train, y_train = np.array(X_train), np.array(y_train)\n",
    "print(X_train.shape, y_train.shape)\n",
    "X_train = np.reshape(X_train, (X_train.shape[0], X_train.shape[1], 3))\n",
    "# print(X_train.shape, y_train.shape)"
   ]
  },
  {
   "cell_type": "code",
   "execution_count": 265,
   "metadata": {},
   "outputs": [],
   "source": [
    "from keras.models import Sequential\n",
    "from keras.layers import Dense\n",
    "from keras.layers import LSTM\n",
    "from keras.layers import Dropout"
   ]
  },
  {
   "cell_type": "code",
   "execution_count": 292,
   "metadata": {},
   "outputs": [],
   "source": [
    "def forecast_lstm(model, x, n_batch):\n",
    "    x = x.reshape(1, 1, len(x))\n",
    "    forecast = model.predict(x, batch_size=n_batch)\n",
    "    return [x for x in forecast[0, :]]\n",
    "\n",
    "def make_forecast(model, n_batch, train, test, n_lag, n_seq):\n",
    "    forecasts = list()\n",
    "    for i in range(len(test)):\n",
    "        x,y = test[i, 0:n_lag], test[i, n_lag:]\n",
    "        forecast = forecast_lstm(model, x , n_batch)\n",
    "        forecasts.append(forecast)\n",
    "    return forecasts"
   ]
  },
  {
   "cell_type": "code",
   "execution_count": null,
   "metadata": {},
   "outputs": [
    {
     "name": "stdout",
     "output_type": "stream",
     "text": [
      "367/367 [==============================] - 1s 3ms/step - loss: 0.0149\n",
      "367/367 [==============================] - 1s 3ms/step - loss: 0.0084\n",
      "367/367 [==============================] - 1s 3ms/step - loss: 0.0083\n",
      "367/367 [==============================] - 1s 3ms/step - loss: 0.0098\n",
      "367/367 [==============================] - 1s 3ms/step - loss: 0.0104\n",
      "367/367 [==============================] - 1s 4ms/step - loss: 0.0094\n",
      "367/367 [==============================] - 1s 4ms/step - loss: 0.0089\n",
      "367/367 [==============================] - 1s 4ms/step - loss: 0.0103\n",
      "367/367 [==============================] - 1s 4ms/step - loss: 0.0090\n",
      "367/367 [==============================] - 1s 4ms/step - loss: 0.0089\n",
      "367/367 [==============================] - 1s 4ms/step - loss: 0.0088\n",
      "367/367 [==============================] - 1s 3ms/step - loss: 0.0088\n",
      "367/367 [==============================] - 1s 3ms/step - loss: 0.0083\n",
      "367/367 [==============================] - 1s 3ms/step - loss: 0.0079\n",
      "367/367 [==============================] - 1s 3ms/step - loss: 0.0077\n",
      "367/367 [==============================] - 1s 4ms/step - loss: 0.0079\n",
      "367/367 [==============================] - 1s 3ms/step - loss: 0.0073\n",
      "367/367 [==============================] - 1s 3ms/step - loss: 0.0077\n",
      "367/367 [==============================] - 1s 3ms/step - loss: 0.0072\n",
      "367/367 [==============================] - 1s 3ms/step - loss: 0.0073\n",
      "367/367 [==============================] - 1s 3ms/step - loss: 0.0075\n",
      "367/367 [==============================] - 1s 3ms/step - loss: 0.0073\n",
      "367/367 [==============================] - 1s 4ms/step - loss: 0.0070\n",
      "367/367 [==============================] - 1s 3ms/step - loss: 0.0070\n",
      "367/367 [==============================] - 1s 3ms/step - loss: 0.0067\n",
      "367/367 [==============================] - 1s 3ms/step - loss: 0.0068\n",
      "367/367 [==============================] - 1s 3ms/step - loss: 0.0068\n",
      "367/367 [==============================] - 1s 3ms/step - loss: 0.0067\n",
      "367/367 [==============================] - 1s 3ms/step - loss: 0.0067\n",
      "367/367 [==============================] - 1s 3ms/step - loss: 0.0066\n",
      "367/367 [==============================] - 1s 3ms/step - loss: 0.0064\n",
      "367/367 [==============================] - 1s 3ms/step - loss: 0.0065\n",
      "367/367 [==============================] - 1s 4ms/step - loss: 0.0064\n",
      "367/367 [==============================] - 1s 3ms/step - loss: 0.0064\n",
      "367/367 [==============================] - 1s 3ms/step - loss: 0.0061\n",
      "367/367 [==============================] - 1s 4ms/step - loss: 0.0060\n",
      "367/367 [==============================] - 1s 3ms/step - loss: 0.0062\n",
      "367/367 [==============================] - 1s 3ms/step - loss: 0.0062\n",
      "367/367 [==============================] - 1s 3ms/step - loss: 0.0060\n",
      "367/367 [==============================] - 1s 3ms/step - loss: 0.0062\n",
      "367/367 [==============================] - 1s 3ms/step - loss: 0.0060\n",
      "367/367 [==============================] - 1s 3ms/step - loss: 0.0059\n",
      "367/367 [==============================] - 1s 3ms/step - loss: 0.0062\n",
      "367/367 [==============================] - 1s 3ms/step - loss: 0.0061\n",
      "367/367 [==============================] - 1s 3ms/step - loss: 0.0058\n",
      "367/367 [==============================] - 1s 3ms/step - loss: 0.0057\n",
      "367/367 [==============================] - 1s 3ms/step - loss: 0.0061\n",
      "367/367 [==============================] - 1s 3ms/step - loss: 0.0059\n",
      "367/367 [==============================] - 1s 3ms/step - loss: 0.0059\n",
      "367/367 [==============================] - 1s 4ms/step - loss: 0.0058\n",
      "367/367 [==============================] - 1s 3ms/step - loss: 0.0058\n",
      "367/367 [==============================] - 1s 3ms/step - loss: 0.0055\n",
      "367/367 [==============================] - 1s 3ms/step - loss: 0.0058\n",
      "367/367 [==============================] - 1s 3ms/step - loss: 0.0055\n",
      "367/367 [==============================] - 1s 3ms/step - loss: 0.0057\n",
      "367/367 [==============================] - 1s 3ms/step - loss: 0.0055\n",
      "367/367 [==============================] - 1s 3ms/step - loss: 0.0056\n",
      "367/367 [==============================] - 1s 3ms/step - loss: 0.0054\n",
      "367/367 [==============================] - 1s 3ms/step - loss: 0.0053\n",
      "367/367 [==============================] - 1s 3ms/step - loss: 0.0055\n",
      "367/367 [==============================] - 1s 3ms/step - loss: 0.0062\n",
      "367/367 [==============================] - 1s 3ms/step - loss: 0.0059\n",
      "367/367 [==============================] - 1s 3ms/step - loss: 0.0053\n",
      "367/367 [==============================] - 1s 4ms/step - loss: 0.0050\n",
      "367/367 [==============================] - 1s 3ms/step - loss: 0.0053\n",
      "367/367 [==============================] - 1s 3ms/step - loss: 0.0050\n",
      "367/367 [==============================] - 1s 3ms/step - loss: 0.0051\n",
      "367/367 [==============================] - 1s 4ms/step - loss: 0.0050\n",
      "367/367 [==============================] - 1s 3ms/step - loss: 0.0051\n",
      "367/367 [==============================] - 1s 3ms/step - loss: 0.0051\n",
      "367/367 [==============================] - 1s 3ms/step - loss: 0.0049\n",
      "367/367 [==============================] - 1s 3ms/step - loss: 0.0048\n",
      "367/367 [==============================] - 1s 3ms/step - loss: 0.0051\n",
      "367/367 [==============================] - 1s 3ms/step - loss: 0.0050\n",
      "367/367 [==============================] - 1s 3ms/step - loss: 0.0046\n",
      "367/367 [==============================] - 1s 3ms/step - loss: 0.0049\n",
      "367/367 [==============================] - 1s 3ms/step - loss: 0.0046\n",
      "367/367 [==============================] - 1s 3ms/step - loss: 0.0046\n",
      "367/367 [==============================] - 1s 3ms/step - loss: 0.0045\n",
      "285/367 [======================>.......] - ETA: 0s - loss: 0.0034"
     ]
    }
   ],
   "source": [
    "n_neurons = 50\n",
    "model = Sequential()\n",
    "model.add(LSTM(n_neurons, batch_input_shape=(n_batch, X_train.shape[1], X_train.shape[2]),\n",
    "               return_sequences=True, activation='relu', recurrent_activation='hard_sigmoid'))\n",
    "model.add(LSTM(n_neurons, return_sequences=True, activation='relu', \n",
    "               recurrent_activation='hard_sigmoid'))\n",
    "model.add(LSTM(n_neurons, activation='relu', recurrent_activation='hard_sigmoid'))\n",
    "model.add(Dropout(0.2))\n",
    "model.add(Dense(y_train.shape[1]))\n",
    "model.compile(loss='mean_squared_error', optimizer='adam')\n",
    "\n",
    "for i in range(100):\n",
    "    model.fit(X_train, y_train, epochs=1, batch_size=n_batch, verbose=1, shuffle=False)\n",
    "    model.reset_states()"
   ]
  },
  {
   "cell_type": "code",
   "execution_count": 286,
   "metadata": {},
   "outputs": [
    {
     "name": "stdout",
     "output_type": "stream",
     "text": [
      "(123, 5, 3) (123, 5)\n"
     ]
    }
   ],
   "source": [
    "X_test = []\n",
    "y_test = []\n",
    "for i in range(int(len(training_set_x_scaled)*0.75), len(training_set_x_scaled)):\n",
    "    X_test.append(training_set_x_scaled[i-5:i, :])\n",
    "    y_test.append(training_set_y_scaled[i, :])\n",
    "X_test, y_test = np.array(X_test), np.array(y_test)\n",
    "print(X_test.shape, y_test.shape)\n",
    "X_test = np.reshape(X_test, (X_test.shape[0], X_test.shape[1], 3))"
   ]
  },
  {
   "cell_type": "code",
   "execution_count": 287,
   "metadata": {},
   "outputs": [],
   "source": [
    "y_pred = regressor.predict(X_test)"
   ]
  },
  {
   "cell_type": "code",
   "execution_count": 288,
   "metadata": {},
   "outputs": [
    {
     "name": "stdout",
     "output_type": "stream",
     "text": [
      "(123, 5)\n"
     ]
    }
   ],
   "source": [
    "predicted_stock_price = sc_y.inverse_transform(y_pred)\n",
    "print(predicted_stock_price.shape)"
   ]
  },
  {
   "cell_type": "code",
   "execution_count": 289,
   "metadata": {},
   "outputs": [
    {
     "data": {
      "text/plain": [
       "(123, 5)"
      ]
     },
     "execution_count": 289,
     "metadata": {},
     "output_type": "execute_result"
    }
   ],
   "source": [
    "actual_stock_price = sc_y.inverse_transform(y_test)\n",
    "actual_stock_price.shape"
   ]
  },
  {
   "cell_type": "code",
   "execution_count": 312,
   "metadata": {},
   "outputs": [
    {
     "name": "stdout",
     "output_type": "stream",
     "text": [
      "367\n"
     ]
    },
    {
     "data": {
      "image/png": "[encoded data removed]",
      "text/plain": [
       "<Figure size 576x432 with 1 Axes>"
      ]
     },
     "metadata": {
      "needs_background": "light"
     },
     "output_type": "display_data"
    }
   ],
   "source": [
    "plt.plot(raw_data['Close Price'].values)\n",
    "print(len(X_train))\n",
    "for i in range(len(predicted_stock_price)):\n",
    "    off_s = len(X_train) + i\n",
    "    off_e = off_s + len(predicted_stock_price[i])\n",
    "    xaxis = [x for x in range(off_s, off_e)]\n",
    "    yaxis = predicted_stock_price[i]\n",
    "    plt.plot(xaxis, yaxis, color='red')\n",
    "plt.show()"
   ]
  },
  {
   "cell_type": "code",
   "execution_count": 311,
   "metadata": {},
   "outputs": [
    {
     "name": "stdout",
     "output_type": "stream",
     "text": [
      "367 643.0 [605.98004 613.13544 616.4458  621.5923  625.75696]\n"
     ]
    }
   ],
   "source": [
    "print(len(X_train), raw_data['Close Price'].values[len(X_train)], predicted_stock_price[0])"
   ]
  },
  {
   "cell_type": "code",
   "execution_count": null,
   "metadata": {},
   "outputs": [],
   "source": []
  }
 ],
 "metadata": {
  "kernelspec": {
   "display_name": "Python 3",
   "language": "python",
   "name": "python3"
  },
  "language_info": {
   "codemirror_mode": {
    "name": "ipython",
    "version": 3
   },
   "file_extension": ".py",
   "mimetype": "text/x-python",
   "name": "python",
   "nbconvert_exporter": "python",
   "pygments_lexer": "ipython3",
   "version": "3.8.3"
  }
 },
 "nbformat": 4,
 "nbformat_minor": 4
}
