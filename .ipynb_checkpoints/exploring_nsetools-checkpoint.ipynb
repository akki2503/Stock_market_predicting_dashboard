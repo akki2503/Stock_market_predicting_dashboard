{
 "cells": [
  {
   "cell_type": "code",
   "execution_count": 8,
   "metadata": {},
   "outputs": [],
   "source": [
    "from nsetools import Nse\n",
    "nse = Nse()"
   ]
  },
  {
   "cell_type": "code",
   "execution_count": 9,
   "metadata": {},
   "outputs": [
    {
     "data": {
      "text/plain": [
       "{'pricebandupper': 1228.75,\n",
       " 'symbol': 'INFY',\n",
       " 'applicableMargin': 18.73,\n",
       " 'bcEndDate': None,\n",
       " 'totalSellQuantity': None,\n",
       " 'adhocMargin': None,\n",
       " 'companyName': 'Infosys Limited',\n",
       " 'marketType': 'N',\n",
       " 'exDate': '23-OCT-20',\n",
       " 'bcStartDate': None,\n",
       " 'css_status_desc': 'Listed',\n",
       " 'dayHigh': 1135.0,\n",
       " 'basePrice': 1117.05,\n",
       " 'securityVar': 15.23,\n",
       " 'pricebandlower': 1005.35,\n",
       " 'sellQuantity5': None,\n",
       " 'sellQuantity4': None,\n",
       " 'sellQuantity3': None,\n",
       " 'cm_adj_high_dt': '15-OCT-20',\n",
       " 'sellQuantity2': None,\n",
       " 'dayLow': 1120.15,\n",
       " 'sellQuantity1': None,\n",
       " 'quantityTraded': 9070121.0,\n",
       " 'pChange': 0.48,\n",
       " 'totalTradedValue': 102088.75,\n",
       " 'deliveryToTradedQuantity': 54.11,\n",
       " 'totalBuyQuantity': 1745.0,\n",
       " 'averagePrice': 1125.55,\n",
       " 'indexVar': None,\n",
       " 'cm_ffm': 411180.72,\n",
       " 'purpose': 'INTERIM DIVIDEND - RS 12 PER SHARE',\n",
       " 'buyPrice2': None,\n",
       " 'secDate': '23-Oct-2020 00:00:00',\n",
       " 'buyPrice1': 1122.5,\n",
       " 'high52': 1186.0,\n",
       " 'previousClose': 1129.05,\n",
       " 'ndEndDate': None,\n",
       " 'low52': 509.25,\n",
       " 'buyPrice4': None,\n",
       " 'buyPrice3': None,\n",
       " 'recordDate': '26-OCT-20',\n",
       " 'deliveryQuantity': 4907723.0,\n",
       " 'buyPrice5': None,\n",
       " 'priceBand': 'No Band',\n",
       " 'extremeLossMargin': 3.5,\n",
       " 'cm_adj_low_dt': '19-MAR-20',\n",
       " 'varMargin': 15.23,\n",
       " 'sellPrice1': None,\n",
       " 'sellPrice2': None,\n",
       " 'totalTradedVolume': 9070121.0,\n",
       " 'sellPrice3': None,\n",
       " 'sellPrice4': None,\n",
       " 'sellPrice5': None,\n",
       " 'change': 5.35,\n",
       " 'surv_indicator': None,\n",
       " 'ndStartDate': None,\n",
       " 'buyQuantity4': None,\n",
       " 'isExDateFlag': True,\n",
       " 'buyQuantity3': None,\n",
       " 'buyQuantity2': None,\n",
       " 'buyQuantity1': 1745.0,\n",
       " 'series': 'EQ',\n",
       " 'faceValue': 5.0,\n",
       " 'buyQuantity5': None,\n",
       " 'closePrice': 1122.5,\n",
       " 'open': 1133.0,\n",
       " 'isinCode': 'INE009A01021',\n",
       " 'lastPrice': 1122.4}"
      ]
     },
     "execution_count": 9,
     "metadata": {},
     "output_type": "execute_result"
    }
   ],
   "source": [
    "infy = nse.get_quote('infy')\n",
    "infy"
   ]
  },
  {
   "cell_type": "code",
   "execution_count": 10,
   "metadata": {},
   "outputs": [
    {
     "name": "stdout",
     "output_type": "stream",
     "text": [
      "Collecting yahoo-finance\n",
      "  Downloading yahoo-finance-1.4.0.tar.gz (8.9 kB)\n",
      "Requirement already satisfied: pytz in /home/akshat/anaconda3/lib/python3.8/site-packages (from yahoo-finance) (2020.1)\n",
      "Collecting simplejson\n",
      "  Downloading simplejson-3.17.2-cp38-cp38-manylinux2010_x86_64.whl (137 kB)\n",
      "\u001b[K     |████████████████████████████████| 137 kB 1.0 MB/s eta 0:00:01\n",
      "\u001b[?25hBuilding wheels for collected packages: yahoo-finance\n",
      "  Building wheel for yahoo-finance (setup.py) ... \u001b[?25ldone\n",
      "\u001b[?25h  Created wheel for yahoo-finance: filename=yahoo_finance-1.4.0-py3-none-any.whl size=7233 sha256=1bea57cb76345285298e430d725c9b7a022e24fef84ec3439d936312b60b96b8\n",
      "  Stored in directory: /home/akshat/.cache/pip/wheels/80/c8/73/b05bf4d7f056ee7be447dedbc38e2acaf923e2c70828605f34\n",
      "Successfully built yahoo-finance\n",
      "Installing collected packages: simplejson, yahoo-finance\n",
      "Successfully installed simplejson-3.17.2 yahoo-finance-1.4.0\n"
     ]
    }
   ],
   "source": [
    "!pip install yahoo-finance "
   ]
  },
  {
   "cell_type": "code",
   "execution_count": 16,
   "metadata": {},
   "outputs": [
    {
     "name": "stdout",
     "output_type": "stream",
     "text": [
      "Collecting googlefinance\n",
      "  Downloading googlefinance-0.7.tar.gz (2.5 kB)\n",
      "Building wheels for collected packages: googlefinance\n",
      "  Building wheel for googlefinance (setup.py) ... \u001b[?25ldone\n",
      "\u001b[?25h  Created wheel for googlefinance: filename=googlefinance-0.7-py3-none-any.whl size=2586 sha256=1e6967e2838eddbf079197051b144a9ca61238a91521ae665054ec0fd99d4914\n",
      "  Stored in directory: /home/akshat/.cache/pip/wheels/29/cc/35/b1f41f31b3bf5939920399cd9f04a5c491f411aea1c17ce16c\n",
      "Successfully built googlefinance\n",
      "Installing collected packages: googlefinance\n",
      "Successfully installed googlefinance-0.7\n"
     ]
    }
   ],
   "source": [
    "!pip install googlefinance\n",
    "from pandas_datareader import data"
   ]
  },
  {
   "cell_type": "code",
   "execution_count": 18,
   "metadata": {},
   "outputs": [
    {
     "name": "stdout",
     "output_type": "stream",
     "text": [
      "Collecting yfinance\n",
      "  Downloading yfinance-0.1.55.tar.gz (23 kB)\n",
      "Requirement already satisfied: pandas>=0.24 in /home/akshat/anaconda3/lib/python3.8/site-packages (from yfinance) (1.0.5)\n",
      "Requirement already satisfied: numpy>=1.15 in /home/akshat/anaconda3/lib/python3.8/site-packages (from yfinance) (1.18.5)\n",
      "Requirement already satisfied: requests>=2.20 in /home/akshat/anaconda3/lib/python3.8/site-packages (from yfinance) (2.24.0)\n",
      "Collecting multitasking>=0.0.7\n",
      "  Downloading multitasking-0.0.9.tar.gz (8.1 kB)\n",
      "Requirement already satisfied: lxml>=4.5.1 in /home/akshat/anaconda3/lib/python3.8/site-packages (from yfinance) (4.5.2)\n",
      "Requirement already satisfied: python-dateutil>=2.6.1 in /home/akshat/anaconda3/lib/python3.8/site-packages (from pandas>=0.24->yfinance) (2.8.1)\n",
      "Requirement already satisfied: pytz>=2017.2 in /home/akshat/anaconda3/lib/python3.8/site-packages (from pandas>=0.24->yfinance) (2020.1)\n",
      "Requirement already satisfied: certifi>=2017.4.17 in /home/akshat/anaconda3/lib/python3.8/site-packages (from requests>=2.20->yfinance) (2020.6.20)\n",
      "Requirement already satisfied: chardet<4,>=3.0.2 in /home/akshat/anaconda3/lib/python3.8/site-packages (from requests>=2.20->yfinance) (3.0.4)\n",
      "Requirement already satisfied: urllib3!=1.25.0,!=1.25.1,<1.26,>=1.21.1 in /home/akshat/anaconda3/lib/python3.8/site-packages (from requests>=2.20->yfinance) (1.25.9)\n",
      "Requirement already satisfied: idna<3,>=2.5 in /home/akshat/anaconda3/lib/python3.8/site-packages (from requests>=2.20->yfinance) (2.10)\n",
      "Requirement already satisfied: six>=1.5 in /home/akshat/anaconda3/lib/python3.8/site-packages (from python-dateutil>=2.6.1->pandas>=0.24->yfinance) (1.15.0)\n",
      "Building wheels for collected packages: yfinance, multitasking\n",
      "  Building wheel for yfinance (setup.py) ... \u001b[?25ldone\n",
      "\u001b[?25h  Created wheel for yfinance: filename=yfinance-0.1.55-py2.py3-none-any.whl size=22616 sha256=cfd7c1458991c163c1481d13616f110be4d2e02f7c2175b2fafe3e5b9a155350\n",
      "  Stored in directory: /home/akshat/.cache/pip/wheels/b4/c3/39/9c01ae2b4726f37024bba5592bec868b47a2fab5a786e8979a\n",
      "  Building wheel for multitasking (setup.py) ... \u001b[?25ldone\n",
      "\u001b[?25h  Created wheel for multitasking: filename=multitasking-0.0.9-py3-none-any.whl size=8366 sha256=e6fd1a17f3f381e9da2eb6bd815c4ebd7b57e7a44a2b84694050e0e9f2c1bead\n",
      "  Stored in directory: /home/akshat/.cache/pip/wheels/57/6d/a3/a39b839cc75274d2acfb1c58bfead2f726c6577fe8c4723f13\n",
      "Successfully built yfinance multitasking\n",
      "Installing collected packages: multitasking, yfinance\n",
      "Successfully installed multitasking-0.0.9 yfinance-0.1.55\n"
     ]
    }
   ],
   "source": [
    "!pip install yfinance"
   ]
  },
  {
   "cell_type": "code",
   "execution_count": 38,
   "metadata": {},
   "outputs": [
    {
     "name": "stdout",
     "output_type": "stream",
     "text": [
      "[*********************100%***********************]  1 of 1 completed\n"
     ]
    }
   ],
   "source": [
    "import yfinance as yf\n",
    "data = yf.download('INFY.BO','2008-01-01','2020-10-25')"
   ]
  },
  {
   "cell_type": "code",
   "execution_count": 43,
   "metadata": {},
   "outputs": [
    {
     "name": "stdout",
     "output_type": "stream",
     "text": [
      "[1125.55004883 1137.05004883 1148.30004883 1130.15002441 1122.        ] ['2020-10-19T00:00:00.000000000' '2020-10-20T00:00:00.000000000'\n",
      " '2020-10-21T00:00:00.000000000' '2020-10-22T00:00:00.000000000'\n",
      " '2020-10-23T00:00:00.000000000']\n"
     ]
    }
   ],
   "source": [
    "index = data.index.values[-5:]\n",
    "data_close = data['Close'].values[-5:]\n",
    "print(data_close, index)"
   ]
  },
  {
   "cell_type": "code",
   "execution_count": 39,
   "metadata": {},
   "outputs": [
    {
     "data": {
      "text/html": [
       "<div>\n",
       "<style scoped>\n",
       "    .dataframe tbody tr th:only-of-type {\n",
       "        vertical-align: middle;\n",
       "    }\n",
       "\n",
       "    .dataframe tbody tr th {\n",
       "        vertical-align: top;\n",
       "    }\n",
       "\n",
       "    .dataframe thead th {\n",
       "        text-align: right;\n",
       "    }\n",
       "</style>\n",
       "<table border=\"1\" class=\"dataframe\">\n",
       "  <thead>\n",
       "    <tr style=\"text-align: right;\">\n",
       "      <th></th>\n",
       "      <th>Open</th>\n",
       "      <th>High</th>\n",
       "      <th>Low</th>\n",
       "      <th>Close</th>\n",
       "      <th>Adj Close</th>\n",
       "      <th>Volume</th>\n",
       "    </tr>\n",
       "    <tr>\n",
       "      <th>Date</th>\n",
       "      <th></th>\n",
       "      <th></th>\n",
       "      <th></th>\n",
       "      <th></th>\n",
       "      <th></th>\n",
       "      <th></th>\n",
       "    </tr>\n",
       "  </thead>\n",
       "  <tbody>\n",
       "    <tr>\n",
       "      <th>2012-06-18</th>\n",
       "      <td>316.500000</td>\n",
       "      <td>318.049988</td>\n",
       "      <td>311.944000</td>\n",
       "      <td>313.862000</td>\n",
       "      <td>172.476105</td>\n",
       "      <td>710072.0</td>\n",
       "    </tr>\n",
       "    <tr>\n",
       "      <th>2012-06-19</th>\n",
       "      <td>312.500000</td>\n",
       "      <td>313.212006</td>\n",
       "      <td>307.037994</td>\n",
       "      <td>309.819000</td>\n",
       "      <td>170.254333</td>\n",
       "      <td>679992.0</td>\n",
       "    </tr>\n",
       "    <tr>\n",
       "      <th>2012-06-20</th>\n",
       "      <td>310.000000</td>\n",
       "      <td>310.600006</td>\n",
       "      <td>306.862000</td>\n",
       "      <td>308.830994</td>\n",
       "      <td>169.711426</td>\n",
       "      <td>563008.0</td>\n",
       "    </tr>\n",
       "    <tr>\n",
       "      <th>2012-06-21</th>\n",
       "      <td>306.875000</td>\n",
       "      <td>312.681000</td>\n",
       "      <td>305.287994</td>\n",
       "      <td>311.524994</td>\n",
       "      <td>171.191849</td>\n",
       "      <td>457992.0</td>\n",
       "    </tr>\n",
       "    <tr>\n",
       "      <th>2012-06-22</th>\n",
       "      <td>306.125000</td>\n",
       "      <td>310.531006</td>\n",
       "      <td>305.375000</td>\n",
       "      <td>309.388000</td>\n",
       "      <td>170.017517</td>\n",
       "      <td>1230912.0</td>\n",
       "    </tr>\n",
       "    <tr>\n",
       "      <th>...</th>\n",
       "      <td>...</td>\n",
       "      <td>...</td>\n",
       "      <td>...</td>\n",
       "      <td>...</td>\n",
       "      <td>...</td>\n",
       "      <td>...</td>\n",
       "    </tr>\n",
       "    <tr>\n",
       "      <th>2020-10-19</th>\n",
       "      <td>1133.599976</td>\n",
       "      <td>1138.750000</td>\n",
       "      <td>1115.750000</td>\n",
       "      <td>1125.550049</td>\n",
       "      <td>1113.598877</td>\n",
       "      <td>558876.0</td>\n",
       "    </tr>\n",
       "    <tr>\n",
       "      <th>2020-10-20</th>\n",
       "      <td>1119.849976</td>\n",
       "      <td>1144.699951</td>\n",
       "      <td>1115.000000</td>\n",
       "      <td>1137.050049</td>\n",
       "      <td>1124.976807</td>\n",
       "      <td>223438.0</td>\n",
       "    </tr>\n",
       "    <tr>\n",
       "      <th>2020-10-21</th>\n",
       "      <td>1142.000000</td>\n",
       "      <td>1153.900024</td>\n",
       "      <td>1135.000000</td>\n",
       "      <td>1148.300049</td>\n",
       "      <td>1136.107422</td>\n",
       "      <td>550482.0</td>\n",
       "    </tr>\n",
       "    <tr>\n",
       "      <th>2020-10-22</th>\n",
       "      <td>1146.000000</td>\n",
       "      <td>1158.000000</td>\n",
       "      <td>1123.750000</td>\n",
       "      <td>1130.150024</td>\n",
       "      <td>1118.150024</td>\n",
       "      <td>443767.0</td>\n",
       "    </tr>\n",
       "    <tr>\n",
       "      <th>2020-10-23</th>\n",
       "      <td>1134.449951</td>\n",
       "      <td>1134.449951</td>\n",
       "      <td>1120.000000</td>\n",
       "      <td>1122.000000</td>\n",
       "      <td>1122.000000</td>\n",
       "      <td>309881.0</td>\n",
       "    </tr>\n",
       "  </tbody>\n",
       "</table>\n",
       "<p>2055 rows × 6 columns</p>\n",
       "</div>"
      ],
      "text/plain": [
       "                   Open         High          Low        Close    Adj Close  \\\n",
       "Date                                                                          \n",
       "2012-06-18   316.500000   318.049988   311.944000   313.862000   172.476105   \n",
       "2012-06-19   312.500000   313.212006   307.037994   309.819000   170.254333   \n",
       "2012-06-20   310.000000   310.600006   306.862000   308.830994   169.711426   \n",
       "2012-06-21   306.875000   312.681000   305.287994   311.524994   171.191849   \n",
       "2012-06-22   306.125000   310.531006   305.375000   309.388000   170.017517   \n",
       "...                 ...          ...          ...          ...          ...   \n",
       "2020-10-19  1133.599976  1138.750000  1115.750000  1125.550049  1113.598877   \n",
       "2020-10-20  1119.849976  1144.699951  1115.000000  1137.050049  1124.976807   \n",
       "2020-10-21  1142.000000  1153.900024  1135.000000  1148.300049  1136.107422   \n",
       "2020-10-22  1146.000000  1158.000000  1123.750000  1130.150024  1118.150024   \n",
       "2020-10-23  1134.449951  1134.449951  1120.000000  1122.000000  1122.000000   \n",
       "\n",
       "               Volume  \n",
       "Date                   \n",
       "2012-06-18   710072.0  \n",
       "2012-06-19   679992.0  \n",
       "2012-06-20   563008.0  \n",
       "2012-06-21   457992.0  \n",
       "2012-06-22  1230912.0  \n",
       "...               ...  \n",
       "2020-10-19   558876.0  \n",
       "2020-10-20   223438.0  \n",
       "2020-10-21   550482.0  \n",
       "2020-10-22   443767.0  \n",
       "2020-10-23   309881.0  \n",
       "\n",
       "[2055 rows x 6 columns]"
      ]
     },
     "execution_count": 39,
     "metadata": {},
     "output_type": "execute_result"
    }
   ],
   "source": [
    "data = data.dropna()\n",
    "data"
   ]
  },
  {
   "cell_type": "code",
   "execution_count": 52,
   "metadata": {},
   "outputs": [],
   "source": [
    "from datetime import date\n",
    "import pandas as pd\n",
    "date = date.today()\n",
    "date = pd.Timestamp(date)\n",
    "bd = pd.tseries.offsets.BusinessDay(n = -5) \n",
    "new_timestamp = date + bd "
   ]
  },
  {
   "cell_type": "code",
   "execution_count": 55,
   "metadata": {},
   "outputs": [
    {
     "data": {
      "text/plain": [
       "'2020-10-19'"
      ]
     },
     "execution_count": 55,
     "metadata": {},
     "output_type": "execute_result"
    }
   ],
   "source": [
    "str(new_timestamp.date())"
   ]
  },
  {
   "cell_type": "code",
   "execution_count": 57,
   "metadata": {},
   "outputs": [
    {
     "data": {
      "text/plain": [
       "'2020-10-26'"
      ]
     },
     "execution_count": 57,
     "metadata": {},
     "output_type": "execute_result"
    }
   ],
   "source": [
    "str(date.date())"
   ]
  },
  {
   "cell_type": "code",
   "execution_count": 99,
   "metadata": {},
   "outputs": [
    {
     "name": "stdout",
     "output_type": "stream",
     "text": [
      "2020-10-20 2020-10-26\n",
      "[*********************100%***********************]  1 of 1 completed\n",
      "[*********************100%***********************]  1 of 1 completed\n"
     ]
    }
   ],
   "source": [
    "## function to read close prices of previous 5 days\n",
    "import yfinance as yf\n",
    "\n",
    "def prev_dates(last_date):\n",
    "    last_date = pd.Timestamp(last_date)\n",
    "    bd = pd.tseries.offsets.BusinessDay(n = -4)\n",
    "    dates = (str((last_date+bd).date()))\n",
    "    return dates\n",
    "def read_stock_data(stock_name, start_date, end_date):\n",
    "    stock_data = yf.download(stock_name, start_date, end_date)\n",
    "    data_close = stock_data['Close'].values\n",
    "    return data_close\n",
    "Stock = 'INFY.BO'\n",
    "last_date = date.today()\n",
    "prev_date = prev_dates(last_date)\n",
    "print(prev_date, last_date.date())\n",
    "data = yf.download('INFY.BO',prev_date,last_date.date())\n",
    "data_close = read_stock_data('INFY.BO', prev_date, last_date)"
   ]
  },
  {
   "cell_type": "code",
   "execution_count": 102,
   "metadata": {},
   "outputs": [
    {
     "data": {
      "text/plain": [
       "(1, 5)"
      ]
     },
     "execution_count": 102,
     "metadata": {},
     "output_type": "execute_result"
    }
   ],
   "source": [
    "data_close = data_close.reshape(1,5)\n",
    "data_close.shape"
   ]
  },
  {
   "cell_type": "code",
   "execution_count": 67,
   "metadata": {},
   "outputs": [
    {
     "data": {
      "text/plain": [
       "array(['2020-10-19T00:00:00.000000000', '2020-10-20T00:00:00.000000000',\n",
       "       '2020-10-21T00:00:00.000000000', '2020-10-22T00:00:00.000000000',\n",
       "       '2020-10-23T00:00:00.000000000'], dtype='datetime64[ns]')"
      ]
     },
     "execution_count": 67,
     "metadata": {},
     "output_type": "execute_result"
    }
   ],
   "source": [
    "data.index.values"
   ]
  },
  {
   "cell_type": "code",
   "execution_count": 74,
   "metadata": {},
   "outputs": [],
   "source": [
    "import keras\n",
    "lstm_model = keras.models.load_model('lstm_model')"
   ]
  },
  {
   "cell_type": "code",
   "execution_count": 77,
   "metadata": {},
   "outputs": [],
   "source": [
    "from lstm_model_py import forecast_lstm, forecast"
   ]
  },
  {
   "cell_type": "code",
   "execution_count": 103,
   "metadata": {},
   "outputs": [
    {
     "ename": "IndexError",
     "evalue": "tuple index out of range",
     "output_type": "error",
     "traceback": [
      "\u001b[0;31m---------------------------------------------------------------------------\u001b[0m",
      "\u001b[0;31mIndexError\u001b[0m                                Traceback (most recent call last)",
      "\u001b[0;32m<ipython-input-103-38188b5cb018>\u001b[0m in \u001b[0;36m<module>\u001b[0;34m\u001b[0m\n\u001b[0;32m----> 1\u001b[0;31m \u001b[0mforecasts\u001b[0m \u001b[0;34m=\u001b[0m \u001b[0mforecast_lstm\u001b[0m\u001b[0;34m(\u001b[0m\u001b[0mdata_close\u001b[0m\u001b[0;34m,\u001b[0m \u001b[0mlstm_model\u001b[0m\u001b[0;34m)\u001b[0m\u001b[0;34m\u001b[0m\u001b[0;34m\u001b[0m\u001b[0m\n\u001b[0m\u001b[1;32m      2\u001b[0m \u001b[0mforecasts\u001b[0m\u001b[0;34m\u001b[0m\u001b[0;34m\u001b[0m\u001b[0m\n",
      "\u001b[0;32m~/Documents/Stock_market_predicting_dashboard/lstm_model_py.py\u001b[0m in \u001b[0;36mforecast_lstm\u001b[0;34m(x_test_lstm, lstm_model)\u001b[0m\n\u001b[1;32m     88\u001b[0m     \u001b[0;32mfor\u001b[0m \u001b[0mi\u001b[0m \u001b[0;32min\u001b[0m \u001b[0mrange\u001b[0m\u001b[0;34m(\u001b[0m\u001b[0mlen\u001b[0m\u001b[0;34m(\u001b[0m\u001b[0mx_test_lstm\u001b[0m\u001b[0;34m)\u001b[0m\u001b[0;34m)\u001b[0m\u001b[0;34m:\u001b[0m\u001b[0;34m\u001b[0m\u001b[0;34m\u001b[0m\u001b[0m\n\u001b[1;32m     89\u001b[0m         \u001b[0mx\u001b[0m\u001b[0;34m=\u001b[0m \u001b[0mx_test_lstm\u001b[0m\u001b[0;34m[\u001b[0m\u001b[0mi\u001b[0m\u001b[0;34m]\u001b[0m\u001b[0;34m\u001b[0m\u001b[0;34m\u001b[0m\u001b[0m\n\u001b[0;32m---> 90\u001b[0;31m         \u001b[0mfore\u001b[0m \u001b[0;34m=\u001b[0m \u001b[0mforecast\u001b[0m\u001b[0;34m(\u001b[0m\u001b[0mlstm_model\u001b[0m\u001b[0;34m,\u001b[0m \u001b[0mx\u001b[0m \u001b[0;34m,\u001b[0m \u001b[0;36m1\u001b[0m\u001b[0;34m)\u001b[0m\u001b[0;34m\u001b[0m\u001b[0;34m\u001b[0m\u001b[0m\n\u001b[0m\u001b[1;32m     91\u001b[0m         \u001b[0mforecasts\u001b[0m \u001b[0;34m=\u001b[0m \u001b[0mnp\u001b[0m\u001b[0;34m.\u001b[0m\u001b[0mappend\u001b[0m\u001b[0;34m(\u001b[0m\u001b[0mforecasts\u001b[0m\u001b[0;34m,\u001b[0m \u001b[0mfore\u001b[0m\u001b[0;34m)\u001b[0m\u001b[0;34m\u001b[0m\u001b[0;34m\u001b[0m\u001b[0m\n\u001b[1;32m     92\u001b[0m     \u001b[0;32mreturn\u001b[0m \u001b[0mforecasts\u001b[0m\u001b[0;34m\u001b[0m\u001b[0;34m\u001b[0m\u001b[0m\n",
      "\u001b[0;32m~/Documents/Stock_market_predicting_dashboard/lstm_model_py.py\u001b[0m in \u001b[0;36mforecast\u001b[0;34m(model, x, n_batch)\u001b[0m\n\u001b[1;32m     67\u001b[0m \u001b[0;32mdef\u001b[0m \u001b[0mforecast\u001b[0m\u001b[0;34m(\u001b[0m\u001b[0mmodel\u001b[0m\u001b[0;34m,\u001b[0m \u001b[0mx\u001b[0m\u001b[0;34m,\u001b[0m \u001b[0mn_batch\u001b[0m\u001b[0;34m)\u001b[0m\u001b[0;34m:\u001b[0m\u001b[0;34m\u001b[0m\u001b[0;34m\u001b[0m\u001b[0m\n\u001b[1;32m     68\u001b[0m     \u001b[0mfore\u001b[0m \u001b[0;34m=\u001b[0m \u001b[0mlist\u001b[0m\u001b[0;34m(\u001b[0m\u001b[0;34m)\u001b[0m\u001b[0;34m\u001b[0m\u001b[0;34m\u001b[0m\u001b[0m\n\u001b[0;32m---> 69\u001b[0;31m     \u001b[0mx\u001b[0m \u001b[0;34m=\u001b[0m \u001b[0mx\u001b[0m\u001b[0;34m.\u001b[0m\u001b[0mreshape\u001b[0m\u001b[0;34m(\u001b[0m\u001b[0;36m1\u001b[0m\u001b[0;34m,\u001b[0m \u001b[0;36m1\u001b[0m\u001b[0;34m,\u001b[0m \u001b[0mx\u001b[0m\u001b[0;34m.\u001b[0m\u001b[0mshape\u001b[0m\u001b[0;34m[\u001b[0m\u001b[0;36m1\u001b[0m\u001b[0;34m]\u001b[0m\u001b[0;34m)\u001b[0m\u001b[0;34m\u001b[0m\u001b[0;34m\u001b[0m\u001b[0m\n\u001b[0m\u001b[1;32m     70\u001b[0m     \u001b[0mforecast\u001b[0m \u001b[0;34m=\u001b[0m \u001b[0mmodel\u001b[0m\u001b[0;34m.\u001b[0m\u001b[0mpredict\u001b[0m\u001b[0;34m(\u001b[0m\u001b[0mx\u001b[0m\u001b[0;34m,\u001b[0m \u001b[0mbatch_size\u001b[0m\u001b[0;34m=\u001b[0m\u001b[0mn_batch\u001b[0m\u001b[0;34m)\u001b[0m\u001b[0;34m\u001b[0m\u001b[0;34m\u001b[0m\u001b[0m\n\u001b[1;32m     71\u001b[0m     \u001b[0mx_new\u001b[0m \u001b[0;34m=\u001b[0m \u001b[0mnp\u001b[0m\u001b[0;34m.\u001b[0m\u001b[0marray\u001b[0m\u001b[0;34m(\u001b[0m\u001b[0;34m[\u001b[0m\u001b[0mx\u001b[0m \u001b[0;32mfor\u001b[0m \u001b[0mx\u001b[0m \u001b[0;32min\u001b[0m \u001b[0mforecast\u001b[0m\u001b[0;34m[\u001b[0m\u001b[0;36m0\u001b[0m\u001b[0;34m,\u001b[0m\u001b[0;34m:\u001b[0m\u001b[0;34m]\u001b[0m\u001b[0;34m]\u001b[0m\u001b[0;34m)\u001b[0m\u001b[0;34m\u001b[0m\u001b[0;34m\u001b[0m\u001b[0m\n",
      "\u001b[0;31mIndexError\u001b[0m: tuple index out of range"
     ]
    }
   ],
   "source": [
    "forecasts = forecast_lstm(data_close, lstm_model)\n",
    "forecasts"
   ]
  },
  {
   "cell_type": "code",
   "execution_count": 80,
   "metadata": {},
   "outputs": [],
   "source": [
    "def forecast(model, x, n_batch):\n",
    "    fore = list()\n",
    "    print(x)\n",
    "    x = x.reshape(1, 1, x.shape[1])\n",
    "    forecast = model.predict(x, batch_size=n_batch)\n",
    "    x_new = np.array([x for x in forecast[0,:]])\n",
    "    x_prev = x.reshape(5)\n",
    "    x_next = np.append(x_prev[1:5],x_new)\n",
    "    fore =np.append(fore, x_new)\n",
    "    \n",
    "    for i in range(4):\n",
    "        x = x_next.reshape(1, 1, 5)\n",
    "        forecast = model.predict(x, batch_size=n_batch)\n",
    "        x_new = [x for x in forecast[0,:]]\n",
    "        x_prev = x.reshape(5)\n",
    "        x_next = np.append(x_prev[1:5],x_new)\n",
    "        fore = np.append(fore, x_new)\n",
    "    \n",
    "    return fore\n"
   ]
  },
  {
   "cell_type": "code",
   "execution_count": 104,
   "metadata": {},
   "outputs": [
    {
     "name": "stdout",
     "output_type": "stream",
     "text": [
      "[[1137.05004883 1148.30004883 1130.15002441 1122.         1112.09997559]]\n"
     ]
    }
   ],
   "source": [
    "import numpy as np\n",
    "forecasts = list()\n",
    "x_test_lstm = data_close\n",
    "for i in range(len(x_test_lstm)):\n",
    "    x= x_test_lstm\n",
    "    fore = forecast(lstm_model, x , 1)\n",
    "    forecasts = np.append(forecasts, fore)\n",
    "forecasts\n",
    "df2 = pd.DataFrame(forecasts, columns=['events'])"
   ]
  },
  {
   "cell_type": "code",
   "execution_count": 93,
   "metadata": {},
   "outputs": [],
   "source": [
    "import plotly.graph_objects as go"
   ]
  },
  {
   "cell_type": "code",
   "execution_count": 94,
   "metadata": {},
   "outputs": [],
   "source": [
    "fig = go.Bar(x=df2.index, y=df2['events'].values)"
   ]
  },
  {
   "cell_type": "code",
   "execution_count": 96,
   "metadata": {},
   "outputs": [
    {
     "data": {
      "text/plain": [
       "Bar({\n",
       "    'x': array([0, 1, 2, 3, 4]),\n",
       "    'y': array([1103.80969238, 1110.92211914, 1095.02026367, 1087.29187012,\n",
       "                1078.25061035])\n",
       "})"
      ]
     },
     "execution_count": 96,
     "metadata": {},
     "output_type": "execute_result"
    }
   ],
   "source": [
    "fig"
   ]
  },
  {
   "cell_type": "code",
   "execution_count": 117,
   "metadata": {},
   "outputs": [],
   "source": [
    "df = pd.read_excel('/home/akshat/Documents/Stock_market_predicting_dashboard/Yahoo-Ticker-Symbols-September-2017/Yahoo Ticker Symbols - September 2017.xlsx')"
   ]
  },
  {
   "cell_type": "code",
   "execution_count": 122,
   "metadata": {},
   "outputs": [
    {
     "data": {
      "text/html": [
       "<div>\n",
       "<style scoped>\n",
       "    .dataframe tbody tr th:only-of-type {\n",
       "        vertical-align: middle;\n",
       "    }\n",
       "\n",
       "    .dataframe tbody tr th {\n",
       "        vertical-align: top;\n",
       "    }\n",
       "\n",
       "    .dataframe thead th {\n",
       "        text-align: right;\n",
       "    }\n",
       "</style>\n",
       "<table border=\"1\" class=\"dataframe\">\n",
       "  <thead>\n",
       "    <tr style=\"text-align: right;\">\n",
       "      <th></th>\n",
       "      <th>index</th>\n",
       "      <th>Yahoo Stock Tickers</th>\n",
       "      <th>Unnamed: 1</th>\n",
       "      <th>Unnamed: 2</th>\n",
       "      <th>Unnamed: 3</th>\n",
       "      <th>Unnamed: 4</th>\n",
       "      <th>Unnamed: 5</th>\n",
       "      <th>Unnamed: 6</th>\n",
       "      <th>Unnamed: 7</th>\n",
       "    </tr>\n",
       "  </thead>\n",
       "  <tbody>\n",
       "    <tr>\n",
       "      <th>0</th>\n",
       "      <td>1460</td>\n",
       "      <td>AREXMIS.BO</td>\n",
       "      <td>Arex Industries Ltd.</td>\n",
       "      <td>BSE</td>\n",
       "      <td>NaN</td>\n",
       "      <td>India</td>\n",
       "      <td>NaN</td>\n",
       "      <td>NaN</td>\n",
       "      <td>NaN</td>\n",
       "    </tr>\n",
       "    <tr>\n",
       "      <th>1</th>\n",
       "      <td>1965</td>\n",
       "      <td>ADINATH.BO</td>\n",
       "      <td>Adinath Textiles Ltd</td>\n",
       "      <td>BSE</td>\n",
       "      <td>NaN</td>\n",
       "      <td>India</td>\n",
       "      <td>NaN</td>\n",
       "      <td>NaN</td>\n",
       "      <td>NaN</td>\n",
       "    </tr>\n",
       "    <tr>\n",
       "      <th>2</th>\n",
       "      <td>3397</td>\n",
       "      <td>DBCORP.BO</td>\n",
       "      <td>D. B. Corp Limited</td>\n",
       "      <td>BSE</td>\n",
       "      <td>NaN</td>\n",
       "      <td>India</td>\n",
       "      <td>NaN</td>\n",
       "      <td>NaN</td>\n",
       "      <td>NaN</td>\n",
       "    </tr>\n",
       "    <tr>\n",
       "      <th>3</th>\n",
       "      <td>3458</td>\n",
       "      <td>BHEL.BO</td>\n",
       "      <td>Bharat Heavy Electricals Ltd.</td>\n",
       "      <td>BSE</td>\n",
       "      <td>NaN</td>\n",
       "      <td>India</td>\n",
       "      <td>NaN</td>\n",
       "      <td>NaN</td>\n",
       "      <td>NaN</td>\n",
       "    </tr>\n",
       "    <tr>\n",
       "      <th>4</th>\n",
       "      <td>5742</td>\n",
       "      <td>IRB.BO</td>\n",
       "      <td>IRB Infrastructure Developers Limited</td>\n",
       "      <td>BSE</td>\n",
       "      <td>NaN</td>\n",
       "      <td>India</td>\n",
       "      <td>NaN</td>\n",
       "      <td>NaN</td>\n",
       "      <td>NaN</td>\n",
       "    </tr>\n",
       "    <tr>\n",
       "      <th>...</th>\n",
       "      <td>...</td>\n",
       "      <td>...</td>\n",
       "      <td>...</td>\n",
       "      <td>...</td>\n",
       "      <td>...</td>\n",
       "      <td>...</td>\n",
       "      <td>...</td>\n",
       "      <td>...</td>\n",
       "      <td>...</td>\n",
       "    </tr>\n",
       "    <tr>\n",
       "      <th>6082</th>\n",
       "      <td>106292</td>\n",
       "      <td>INCORPI.BO</td>\n",
       "      <td>INTERCORP INDUSTRIES LTD.</td>\n",
       "      <td>BSE</td>\n",
       "      <td>NaN</td>\n",
       "      <td>India</td>\n",
       "      <td>NaN</td>\n",
       "      <td>NaN</td>\n",
       "      <td>NaN</td>\n",
       "    </tr>\n",
       "    <tr>\n",
       "      <th>6083</th>\n",
       "      <td>106293</td>\n",
       "      <td>INDBULBBPH.BO</td>\n",
       "      <td>INDBULL*</td>\n",
       "      <td>BSE</td>\n",
       "      <td>NaN</td>\n",
       "      <td>India</td>\n",
       "      <td>NaN</td>\n",
       "      <td>NaN</td>\n",
       "      <td>NaN</td>\n",
       "    </tr>\n",
       "    <tr>\n",
       "      <th>6084</th>\n",
       "      <td>106295</td>\n",
       "      <td>INDOBCLBBPH.BO</td>\n",
       "      <td>INDOBCL*</td>\n",
       "      <td>BSE</td>\n",
       "      <td>NaN</td>\n",
       "      <td>India</td>\n",
       "      <td>NaN</td>\n",
       "      <td>NaN</td>\n",
       "      <td>NaN</td>\n",
       "    </tr>\n",
       "    <tr>\n",
       "      <th>6085</th>\n",
       "      <td>106297</td>\n",
       "      <td>INDSOYA.BO</td>\n",
       "      <td>INDSOYA LTD.</td>\n",
       "      <td>BSE</td>\n",
       "      <td>NaN</td>\n",
       "      <td>India</td>\n",
       "      <td>NaN</td>\n",
       "      <td>NaN</td>\n",
       "      <td>NaN</td>\n",
       "    </tr>\n",
       "    <tr>\n",
       "      <th>6086</th>\n",
       "      <td>106301</td>\n",
       "      <td>RESPONIND.BO</td>\n",
       "      <td>Responsive Industries Limited</td>\n",
       "      <td>BSE</td>\n",
       "      <td>NaN</td>\n",
       "      <td>India</td>\n",
       "      <td>NaN</td>\n",
       "      <td>NaN</td>\n",
       "      <td>NaN</td>\n",
       "    </tr>\n",
       "  </tbody>\n",
       "</table>\n",
       "<p>6087 rows × 9 columns</p>\n",
       "</div>"
      ],
      "text/plain": [
       "       index Yahoo Stock Tickers                             Unnamed: 1  \\\n",
       "0       1460          AREXMIS.BO                   Arex Industries Ltd.   \n",
       "1       1965          ADINATH.BO                   Adinath Textiles Ltd   \n",
       "2       3397           DBCORP.BO                     D. B. Corp Limited   \n",
       "3       3458             BHEL.BO          Bharat Heavy Electricals Ltd.   \n",
       "4       5742              IRB.BO  IRB Infrastructure Developers Limited   \n",
       "...      ...                 ...                                    ...   \n",
       "6082  106292          INCORPI.BO              INTERCORP INDUSTRIES LTD.   \n",
       "6083  106293       INDBULBBPH.BO                               INDBULL*   \n",
       "6084  106295      INDOBCLBBPH.BO                               INDOBCL*   \n",
       "6085  106297          INDSOYA.BO                           INDSOYA LTD.   \n",
       "6086  106301        RESPONIND.BO          Responsive Industries Limited   \n",
       "\n",
       "     Unnamed: 2 Unnamed: 3 Unnamed: 4  Unnamed: 5  Unnamed: 6 Unnamed: 7  \n",
       "0           BSE        NaN      India         NaN         NaN        NaN  \n",
       "1           BSE        NaN      India         NaN         NaN        NaN  \n",
       "2           BSE        NaN      India         NaN         NaN        NaN  \n",
       "3           BSE        NaN      India         NaN         NaN        NaN  \n",
       "4           BSE        NaN      India         NaN         NaN        NaN  \n",
       "...         ...        ...        ...         ...         ...        ...  \n",
       "6082        BSE        NaN      India         NaN         NaN        NaN  \n",
       "6083        BSE        NaN      India         NaN         NaN        NaN  \n",
       "6084        BSE        NaN      India         NaN         NaN        NaN  \n",
       "6085        BSE        NaN      India         NaN         NaN        NaN  \n",
       "6086        BSE        NaN      India         NaN         NaN        NaN  \n",
       "\n",
       "[6087 rows x 9 columns]"
      ]
     },
     "execution_count": 122,
     "metadata": {},
     "output_type": "execute_result"
    }
   ],
   "source": [
    "df_bse = df[df['Unnamed: 2']=='BSE']\n",
    "df_bse.reset_index(inplace=True)\n",
    "df_bse"
   ]
  },
  {
   "cell_type": "code",
   "execution_count": 126,
   "metadata": {},
   "outputs": [],
   "source": [
    "df_nifty = pd.read_excel('/home/akshat/Documents/Stock_market_predicting_dashboard/Yahoo-Ticker-Symbols-September-2017/nifty 50 companies.xlsx')"
   ]
  },
  {
   "cell_type": "code",
   "execution_count": 129,
   "metadata": {},
   "outputs": [],
   "source": [
    "companies = df_nifty['Company Name'].values"
   ]
  },
  {
   "cell_type": "code",
   "execution_count": 131,
   "metadata": {},
   "outputs": [],
   "source": [
    "import pandas as pd\n",
    "nifty_file=pd.read_csv('ind_niftynext50list.csv')\n",
    "nifty_file['Yahoo_Symbol']='Hello World'\n",
    "nifty_file.Yahoo_Symbol= nifty_file.Symbol + '.NS'\n",
    "nifty_file.to_csv('Nifty_yahoo_ticker.csv')"
   ]
  },
  {
   "cell_type": "code",
   "execution_count": 141,
   "metadata": {},
   "outputs": [],
   "source": [
    "import pandas as pd\n",
    "from pandas_datareader import data as pdr\n",
    "from datetime import datetime\n",
    "nifty_tickers=pd.read_csv('Nifty_yahoo_ticker.csv')\n",
    "nifty_list=nifty_tickers['Yahoo_Symbol'].tolist()\n",
    "end = datetime.today()\n",
    "begin=end-pd.DateOffset(365*15)\n",
    "st=begin.strftime('%Y-%m-%d') \n",
    "ed=end.strftime('%Y-%m-%d')\n",
    "data=[]\n",
    "niftyd_list=[]\n",
    "for i,k in enumerate(nifty_list):\n",
    "    try:\n",
    "        data.append(pdr.get_data_yahoo(k,st,ed))\n",
    "        niftyd_list.append(k)\n",
    "\n",
    "    except Exception:\n",
    "        print('Not found',k)\n",
    "        \n",
    "        pass\n",
    "writer=pd.ExcelWriter(\"Nifty50_Data.xlsx\")\n",
    "for i, A in enumerate(data):\n",
    "    A.to_excel(writer,sheet_name=\"{0}\".format(niftyd_list[i]))\n",
    "writer.save()"
   ]
  },
  {
   "cell_type": "code",
   "execution_count": 148,
   "metadata": {},
   "outputs": [],
   "source": [
    "import matplotlib.pyplot as plt\n",
    "from sklearn.preprocessing import MinMaxScaler\n",
    "\n",
    "from keras.models import Sequential\n",
    "from keras.layers import Dense,RepeatVector\n",
    "from keras.layers import Flatten\n",
    "from keras.layers import TimeDistributed\n",
    "from keras.layers.convolutional import Conv1D\n",
    "from keras.layers.convolutional import MaxPooling1D\n",
    "from keras.layers import LSTM, Flatten\n",
    "from keras.layers import Dropout\n",
    "from keras.layers import RepeatVector, TimeDistributed\n",
    "\n",
    "import tensorflow as tf"
   ]
  },
  {
   "cell_type": "code",
   "execution_count": 176,
   "metadata": {},
   "outputs": [
    {
     "name": "stdout",
     "output_type": "stream",
     "text": [
      "(2943, 1, 5) (2943, 1) (736, 1)\n",
      "Model: \"sequential_5\"\n",
      "_________________________________________________________________\n",
      "Layer (type)                 Output Shape              Param #   \n",
      "=================================================================\n",
      "lstm_18 (LSTM)               (1, 1, 100)               42400     \n",
      "_________________________________________________________________\n",
      "lstm_19 (LSTM)               (1, 1, 100)               80400     \n",
      "_________________________________________________________________\n",
      "lstm_20 (LSTM)               (1, 1, 100)               80400     \n",
      "_________________________________________________________________\n",
      "lstm_21 (LSTM)               (1, 100)                  80400     \n",
      "_________________________________________________________________\n",
      "dense_11 (Dense)             (1, 16)                   1616      \n",
      "_________________________________________________________________\n",
      "dense_12 (Dense)             (1, 8)                    136       \n",
      "_________________________________________________________________\n",
      "dense_13 (Dense)             (1, 1)                    9         \n",
      "=================================================================\n",
      "Total params: 285,361\n",
      "Trainable params: 285,361\n",
      "Non-trainable params: 0\n",
      "_________________________________________________________________\n",
      "None\n",
      "Epoch 1/10\n",
      "2943/2943 [==============================] - 7s 2ms/step - loss: 60.9137\n",
      "Epoch 2/10\n",
      "2943/2943 [==============================] - 8s 3ms/step - loss: 44.1266\n",
      "Epoch 3/10\n",
      "2943/2943 [==============================] - 7s 2ms/step - loss: 43.3369\n",
      "Epoch 4/10\n",
      "2557/2943 [=========================>....] - ETA: 0s - loss: 39.4662"
     ]
    },
    {
     "ename": "KeyboardInterrupt",
     "evalue": "",
     "output_type": "error",
     "traceback": [
      "\u001b[0;31m---------------------------------------------------------------------------\u001b[0m",
      "\u001b[0;31mKeyboardInterrupt\u001b[0m                         Traceback (most recent call last)",
      "\u001b[0;32m<ipython-input-176-bc11ec04f178>\u001b[0m in \u001b[0;36m<module>\u001b[0;34m\u001b[0m\n\u001b[1;32m      8\u001b[0m     \u001b[0mx_train_lstm\u001b[0m\u001b[0;34m,\u001b[0m \u001b[0my_train_lstm\u001b[0m\u001b[0;34m,\u001b[0m \u001b[0mx_test_lstm\u001b[0m\u001b[0;34m,\u001b[0m \u001b[0my_test_lstm\u001b[0m \u001b[0;34m=\u001b[0m \u001b[0mprepare_train_data\u001b[0m\u001b[0;34m(\u001b[0m\u001b[0mraw_data\u001b[0m\u001b[0;34m)\u001b[0m\u001b[0;34m\u001b[0m\u001b[0;34m\u001b[0m\u001b[0m\n\u001b[1;32m      9\u001b[0m     \u001b[0mlstm_model\u001b[0m \u001b[0;34m=\u001b[0m \u001b[0mlstm_model\u001b[0m\u001b[0;34m(\u001b[0m\u001b[0;34m)\u001b[0m\u001b[0;34m\u001b[0m\u001b[0;34m\u001b[0m\u001b[0m\n\u001b[0;32m---> 10\u001b[0;31m     \u001b[0mlstm_model\u001b[0m \u001b[0;34m=\u001b[0m \u001b[0mtrain_lstm\u001b[0m\u001b[0;34m(\u001b[0m\u001b[0mlstm_model\u001b[0m\u001b[0;34m,\u001b[0m \u001b[0mx_train_lstm\u001b[0m\u001b[0;34m,\u001b[0m \u001b[0my_train_lstm\u001b[0m\u001b[0;34m,\u001b[0m \u001b[0mmodel_name\u001b[0m\u001b[0;34m=\u001b[0m\u001b[0msheetname\u001b[0m\u001b[0;34m)\u001b[0m\u001b[0;34m\u001b[0m\u001b[0;34m\u001b[0m\u001b[0m\n\u001b[0m",
      "\u001b[0;32m<ipython-input-175-51835ce6ac63>\u001b[0m in \u001b[0;36mtrain_lstm\u001b[0;34m(lstm_model, x_train_lstm, y_train_lstm, n_epochs, n_nested_epochs, model_name)\u001b[0m\n\u001b[1;32m     62\u001b[0m     \u001b[0mearly_stopping\u001b[0m \u001b[0;34m=\u001b[0m \u001b[0mtf\u001b[0m\u001b[0;34m.\u001b[0m\u001b[0mkeras\u001b[0m\u001b[0;34m.\u001b[0m\u001b[0mcallbacks\u001b[0m\u001b[0;34m.\u001b[0m\u001b[0mEarlyStopping\u001b[0m\u001b[0;34m(\u001b[0m\u001b[0mmonitor\u001b[0m\u001b[0;34m=\u001b[0m\u001b[0;34m'loss'\u001b[0m\u001b[0;34m,\u001b[0m\u001b[0mpatience\u001b[0m\u001b[0;34m=\u001b[0m\u001b[0;36m5\u001b[0m\u001b[0;34m,\u001b[0m \u001b[0mmode\u001b[0m\u001b[0;34m=\u001b[0m\u001b[0;34m'min'\u001b[0m\u001b[0;34m)\u001b[0m\u001b[0;34m\u001b[0m\u001b[0;34m\u001b[0m\u001b[0m\n\u001b[1;32m     63\u001b[0m     \u001b[0;32mfor\u001b[0m \u001b[0mi\u001b[0m \u001b[0;32min\u001b[0m \u001b[0mrange\u001b[0m\u001b[0;34m(\u001b[0m\u001b[0mn_nested_epochs\u001b[0m\u001b[0;34m)\u001b[0m\u001b[0;34m:\u001b[0m\u001b[0;34m\u001b[0m\u001b[0;34m\u001b[0m\u001b[0m\n\u001b[0;32m---> 64\u001b[0;31m         lstm_model.fit(x_train_lstm, y_train_lstm, \n\u001b[0m\u001b[1;32m     65\u001b[0m                        epochs=n_epochs, batch_size=1)\n\u001b[1;32m     66\u001b[0m         \u001b[0mlstm_model\u001b[0m\u001b[0;34m.\u001b[0m\u001b[0mreset_states\u001b[0m\u001b[0;34m(\u001b[0m\u001b[0;34m)\u001b[0m\u001b[0;34m\u001b[0m\u001b[0;34m\u001b[0m\u001b[0m\n",
      "\u001b[0;32m~/anaconda3/lib/python3.8/site-packages/tensorflow/python/keras/engine/training.py\u001b[0m in \u001b[0;36m_method_wrapper\u001b[0;34m(self, *args, **kwargs)\u001b[0m\n\u001b[1;32m    106\u001b[0m   \u001b[0;32mdef\u001b[0m \u001b[0m_method_wrapper\u001b[0m\u001b[0;34m(\u001b[0m\u001b[0mself\u001b[0m\u001b[0;34m,\u001b[0m \u001b[0;34m*\u001b[0m\u001b[0margs\u001b[0m\u001b[0;34m,\u001b[0m \u001b[0;34m**\u001b[0m\u001b[0mkwargs\u001b[0m\u001b[0;34m)\u001b[0m\u001b[0;34m:\u001b[0m\u001b[0;34m\u001b[0m\u001b[0;34m\u001b[0m\u001b[0m\n\u001b[1;32m    107\u001b[0m     \u001b[0;32mif\u001b[0m \u001b[0;32mnot\u001b[0m \u001b[0mself\u001b[0m\u001b[0;34m.\u001b[0m\u001b[0m_in_multi_worker_mode\u001b[0m\u001b[0;34m(\u001b[0m\u001b[0;34m)\u001b[0m\u001b[0;34m:\u001b[0m  \u001b[0;31m# pylint: disable=protected-access\u001b[0m\u001b[0;34m\u001b[0m\u001b[0;34m\u001b[0m\u001b[0m\n\u001b[0;32m--> 108\u001b[0;31m       \u001b[0;32mreturn\u001b[0m \u001b[0mmethod\u001b[0m\u001b[0;34m(\u001b[0m\u001b[0mself\u001b[0m\u001b[0;34m,\u001b[0m \u001b[0;34m*\u001b[0m\u001b[0margs\u001b[0m\u001b[0;34m,\u001b[0m \u001b[0;34m**\u001b[0m\u001b[0mkwargs\u001b[0m\u001b[0;34m)\u001b[0m\u001b[0;34m\u001b[0m\u001b[0;34m\u001b[0m\u001b[0m\n\u001b[0m\u001b[1;32m    109\u001b[0m \u001b[0;34m\u001b[0m\u001b[0m\n\u001b[1;32m    110\u001b[0m     \u001b[0;31m# Running inside `run_distribute_coordinator` already.\u001b[0m\u001b[0;34m\u001b[0m\u001b[0;34m\u001b[0m\u001b[0;34m\u001b[0m\u001b[0m\n",
      "\u001b[0;32m~/anaconda3/lib/python3.8/site-packages/tensorflow/python/keras/engine/training.py\u001b[0m in \u001b[0;36mfit\u001b[0;34m(self, x, y, batch_size, epochs, verbose, callbacks, validation_split, validation_data, shuffle, class_weight, sample_weight, initial_epoch, steps_per_epoch, validation_steps, validation_batch_size, validation_freq, max_queue_size, workers, use_multiprocessing)\u001b[0m\n\u001b[1;32m   1096\u001b[0m                 batch_size=batch_size):\n\u001b[1;32m   1097\u001b[0m               \u001b[0mcallbacks\u001b[0m\u001b[0;34m.\u001b[0m\u001b[0mon_train_batch_begin\u001b[0m\u001b[0;34m(\u001b[0m\u001b[0mstep\u001b[0m\u001b[0;34m)\u001b[0m\u001b[0;34m\u001b[0m\u001b[0;34m\u001b[0m\u001b[0m\n\u001b[0;32m-> 1098\u001b[0;31m               \u001b[0mtmp_logs\u001b[0m \u001b[0;34m=\u001b[0m \u001b[0mtrain_function\u001b[0m\u001b[0;34m(\u001b[0m\u001b[0miterator\u001b[0m\u001b[0;34m)\u001b[0m\u001b[0;34m\u001b[0m\u001b[0;34m\u001b[0m\u001b[0m\n\u001b[0m\u001b[1;32m   1099\u001b[0m               \u001b[0;32mif\u001b[0m \u001b[0mdata_handler\u001b[0m\u001b[0;34m.\u001b[0m\u001b[0mshould_sync\u001b[0m\u001b[0;34m:\u001b[0m\u001b[0;34m\u001b[0m\u001b[0;34m\u001b[0m\u001b[0m\n\u001b[1;32m   1100\u001b[0m                 \u001b[0mcontext\u001b[0m\u001b[0;34m.\u001b[0m\u001b[0masync_wait\u001b[0m\u001b[0;34m(\u001b[0m\u001b[0;34m)\u001b[0m\u001b[0;34m\u001b[0m\u001b[0;34m\u001b[0m\u001b[0m\n",
      "\u001b[0;32m~/anaconda3/lib/python3.8/site-packages/tensorflow/python/eager/def_function.py\u001b[0m in \u001b[0;36m__call__\u001b[0;34m(self, *args, **kwds)\u001b[0m\n\u001b[1;32m    778\u001b[0m       \u001b[0;32melse\u001b[0m\u001b[0;34m:\u001b[0m\u001b[0;34m\u001b[0m\u001b[0;34m\u001b[0m\u001b[0m\n\u001b[1;32m    779\u001b[0m         \u001b[0mcompiler\u001b[0m \u001b[0;34m=\u001b[0m \u001b[0;34m\"nonXla\"\u001b[0m\u001b[0;34m\u001b[0m\u001b[0;34m\u001b[0m\u001b[0m\n\u001b[0;32m--> 780\u001b[0;31m         \u001b[0mresult\u001b[0m \u001b[0;34m=\u001b[0m \u001b[0mself\u001b[0m\u001b[0;34m.\u001b[0m\u001b[0m_call\u001b[0m\u001b[0;34m(\u001b[0m\u001b[0;34m*\u001b[0m\u001b[0margs\u001b[0m\u001b[0;34m,\u001b[0m \u001b[0;34m**\u001b[0m\u001b[0mkwds\u001b[0m\u001b[0;34m)\u001b[0m\u001b[0;34m\u001b[0m\u001b[0;34m\u001b[0m\u001b[0m\n\u001b[0m\u001b[1;32m    781\u001b[0m \u001b[0;34m\u001b[0m\u001b[0m\n\u001b[1;32m    782\u001b[0m       \u001b[0mnew_tracing_count\u001b[0m \u001b[0;34m=\u001b[0m \u001b[0mself\u001b[0m\u001b[0;34m.\u001b[0m\u001b[0m_get_tracing_count\u001b[0m\u001b[0;34m(\u001b[0m\u001b[0;34m)\u001b[0m\u001b[0;34m\u001b[0m\u001b[0;34m\u001b[0m\u001b[0m\n",
      "\u001b[0;32m~/anaconda3/lib/python3.8/site-packages/tensorflow/python/eager/def_function.py\u001b[0m in \u001b[0;36m_call\u001b[0;34m(self, *args, **kwds)\u001b[0m\n\u001b[1;32m    805\u001b[0m       \u001b[0;31m# In this case we have created variables on the first call, so we run the\u001b[0m\u001b[0;34m\u001b[0m\u001b[0;34m\u001b[0m\u001b[0;34m\u001b[0m\u001b[0m\n\u001b[1;32m    806\u001b[0m       \u001b[0;31m# defunned version which is guaranteed to never create variables.\u001b[0m\u001b[0;34m\u001b[0m\u001b[0;34m\u001b[0m\u001b[0;34m\u001b[0m\u001b[0m\n\u001b[0;32m--> 807\u001b[0;31m       \u001b[0;32mreturn\u001b[0m \u001b[0mself\u001b[0m\u001b[0;34m.\u001b[0m\u001b[0m_stateless_fn\u001b[0m\u001b[0;34m(\u001b[0m\u001b[0;34m*\u001b[0m\u001b[0margs\u001b[0m\u001b[0;34m,\u001b[0m \u001b[0;34m**\u001b[0m\u001b[0mkwds\u001b[0m\u001b[0;34m)\u001b[0m  \u001b[0;31m# pylint: disable=not-callable\u001b[0m\u001b[0;34m\u001b[0m\u001b[0;34m\u001b[0m\u001b[0m\n\u001b[0m\u001b[1;32m    808\u001b[0m     \u001b[0;32melif\u001b[0m \u001b[0mself\u001b[0m\u001b[0;34m.\u001b[0m\u001b[0m_stateful_fn\u001b[0m \u001b[0;32mis\u001b[0m \u001b[0;32mnot\u001b[0m \u001b[0;32mNone\u001b[0m\u001b[0;34m:\u001b[0m\u001b[0;34m\u001b[0m\u001b[0;34m\u001b[0m\u001b[0m\n\u001b[1;32m    809\u001b[0m       \u001b[0;31m# Release the lock early so that multiple threads can perform the call\u001b[0m\u001b[0;34m\u001b[0m\u001b[0;34m\u001b[0m\u001b[0;34m\u001b[0m\u001b[0m\n",
      "\u001b[0;32m~/anaconda3/lib/python3.8/site-packages/tensorflow/python/eager/function.py\u001b[0m in \u001b[0;36m__call__\u001b[0;34m(self, *args, **kwargs)\u001b[0m\n\u001b[1;32m   2827\u001b[0m     \u001b[0;32mwith\u001b[0m \u001b[0mself\u001b[0m\u001b[0;34m.\u001b[0m\u001b[0m_lock\u001b[0m\u001b[0;34m:\u001b[0m\u001b[0;34m\u001b[0m\u001b[0;34m\u001b[0m\u001b[0m\n\u001b[1;32m   2828\u001b[0m       \u001b[0mgraph_function\u001b[0m\u001b[0;34m,\u001b[0m \u001b[0margs\u001b[0m\u001b[0;34m,\u001b[0m \u001b[0mkwargs\u001b[0m \u001b[0;34m=\u001b[0m \u001b[0mself\u001b[0m\u001b[0;34m.\u001b[0m\u001b[0m_maybe_define_function\u001b[0m\u001b[0;34m(\u001b[0m\u001b[0margs\u001b[0m\u001b[0;34m,\u001b[0m \u001b[0mkwargs\u001b[0m\u001b[0;34m)\u001b[0m\u001b[0;34m\u001b[0m\u001b[0;34m\u001b[0m\u001b[0m\n\u001b[0;32m-> 2829\u001b[0;31m     \u001b[0;32mreturn\u001b[0m \u001b[0mgraph_function\u001b[0m\u001b[0;34m.\u001b[0m\u001b[0m_filtered_call\u001b[0m\u001b[0;34m(\u001b[0m\u001b[0margs\u001b[0m\u001b[0;34m,\u001b[0m \u001b[0mkwargs\u001b[0m\u001b[0;34m)\u001b[0m  \u001b[0;31m# pylint: disable=protected-access\u001b[0m\u001b[0;34m\u001b[0m\u001b[0;34m\u001b[0m\u001b[0m\n\u001b[0m\u001b[1;32m   2830\u001b[0m \u001b[0;34m\u001b[0m\u001b[0m\n\u001b[1;32m   2831\u001b[0m   \u001b[0;34m@\u001b[0m\u001b[0mproperty\u001b[0m\u001b[0;34m\u001b[0m\u001b[0;34m\u001b[0m\u001b[0m\n",
      "\u001b[0;32m~/anaconda3/lib/python3.8/site-packages/tensorflow/python/eager/function.py\u001b[0m in \u001b[0;36m_filtered_call\u001b[0;34m(self, args, kwargs, cancellation_manager)\u001b[0m\n\u001b[1;32m   1841\u001b[0m       \u001b[0;31m`\u001b[0m\u001b[0margs\u001b[0m\u001b[0;31m`\u001b[0m \u001b[0;32mand\u001b[0m\u001b[0;31m \u001b[0m\u001b[0;31m`\u001b[0m\u001b[0mkwargs\u001b[0m\u001b[0;31m`\u001b[0m\u001b[0;34m.\u001b[0m\u001b[0;34m\u001b[0m\u001b[0;34m\u001b[0m\u001b[0m\n\u001b[1;32m   1842\u001b[0m     \"\"\"\n\u001b[0;32m-> 1843\u001b[0;31m     return self._call_flat(\n\u001b[0m\u001b[1;32m   1844\u001b[0m         [t for t in nest.flatten((args, kwargs), expand_composites=True)\n\u001b[1;32m   1845\u001b[0m          if isinstance(t, (ops.Tensor,\n",
      "\u001b[0;32m~/anaconda3/lib/python3.8/site-packages/tensorflow/python/eager/function.py\u001b[0m in \u001b[0;36m_call_flat\u001b[0;34m(self, args, captured_inputs, cancellation_manager)\u001b[0m\n\u001b[1;32m   1921\u001b[0m         and executing_eagerly):\n\u001b[1;32m   1922\u001b[0m       \u001b[0;31m# No tape is watching; skip to running the function.\u001b[0m\u001b[0;34m\u001b[0m\u001b[0;34m\u001b[0m\u001b[0;34m\u001b[0m\u001b[0m\n\u001b[0;32m-> 1923\u001b[0;31m       return self._build_call_outputs(self._inference_function.call(\n\u001b[0m\u001b[1;32m   1924\u001b[0m           ctx, args, cancellation_manager=cancellation_manager))\n\u001b[1;32m   1925\u001b[0m     forward_backward = self._select_forward_and_backward_functions(\n",
      "\u001b[0;32m~/anaconda3/lib/python3.8/site-packages/tensorflow/python/eager/function.py\u001b[0m in \u001b[0;36mcall\u001b[0;34m(self, ctx, args, cancellation_manager)\u001b[0m\n\u001b[1;32m    543\u001b[0m       \u001b[0;32mwith\u001b[0m \u001b[0m_InterpolateFunctionError\u001b[0m\u001b[0;34m(\u001b[0m\u001b[0mself\u001b[0m\u001b[0;34m)\u001b[0m\u001b[0;34m:\u001b[0m\u001b[0;34m\u001b[0m\u001b[0;34m\u001b[0m\u001b[0m\n\u001b[1;32m    544\u001b[0m         \u001b[0;32mif\u001b[0m \u001b[0mcancellation_manager\u001b[0m \u001b[0;32mis\u001b[0m \u001b[0;32mNone\u001b[0m\u001b[0;34m:\u001b[0m\u001b[0;34m\u001b[0m\u001b[0;34m\u001b[0m\u001b[0m\n\u001b[0;32m--> 545\u001b[0;31m           outputs = execute.execute(\n\u001b[0m\u001b[1;32m    546\u001b[0m               \u001b[0mstr\u001b[0m\u001b[0;34m(\u001b[0m\u001b[0mself\u001b[0m\u001b[0;34m.\u001b[0m\u001b[0msignature\u001b[0m\u001b[0;34m.\u001b[0m\u001b[0mname\u001b[0m\u001b[0;34m)\u001b[0m\u001b[0;34m,\u001b[0m\u001b[0;34m\u001b[0m\u001b[0;34m\u001b[0m\u001b[0m\n\u001b[1;32m    547\u001b[0m               \u001b[0mnum_outputs\u001b[0m\u001b[0;34m=\u001b[0m\u001b[0mself\u001b[0m\u001b[0;34m.\u001b[0m\u001b[0m_num_outputs\u001b[0m\u001b[0;34m,\u001b[0m\u001b[0;34m\u001b[0m\u001b[0;34m\u001b[0m\u001b[0m\n",
      "\u001b[0;32m~/anaconda3/lib/python3.8/site-packages/tensorflow/python/eager/execute.py\u001b[0m in \u001b[0;36mquick_execute\u001b[0;34m(op_name, num_outputs, inputs, attrs, ctx, name)\u001b[0m\n\u001b[1;32m     57\u001b[0m   \u001b[0;32mtry\u001b[0m\u001b[0;34m:\u001b[0m\u001b[0;34m\u001b[0m\u001b[0;34m\u001b[0m\u001b[0m\n\u001b[1;32m     58\u001b[0m     \u001b[0mctx\u001b[0m\u001b[0;34m.\u001b[0m\u001b[0mensure_initialized\u001b[0m\u001b[0;34m(\u001b[0m\u001b[0;34m)\u001b[0m\u001b[0;34m\u001b[0m\u001b[0;34m\u001b[0m\u001b[0m\n\u001b[0;32m---> 59\u001b[0;31m     tensors = pywrap_tfe.TFE_Py_Execute(ctx._handle, device_name, op_name,\n\u001b[0m\u001b[1;32m     60\u001b[0m                                         inputs, attrs, num_outputs)\n\u001b[1;32m     61\u001b[0m   \u001b[0;32mexcept\u001b[0m \u001b[0mcore\u001b[0m\u001b[0;34m.\u001b[0m\u001b[0m_NotOkStatusException\u001b[0m \u001b[0;32mas\u001b[0m \u001b[0me\u001b[0m\u001b[0;34m:\u001b[0m\u001b[0;34m\u001b[0m\u001b[0;34m\u001b[0m\u001b[0m\n",
      "\u001b[0;31mKeyboardInterrupt\u001b[0m: "
     ]
    }
   ],
   "source": [
    "# all_data = pd.ExcelFile('Nifty50_Data.xlsx')\n",
    "sheetnames = list(all_data.sheet_names)\n",
    "# print(sheetnames[0])\n",
    "for sheetname in sheetnames:\n",
    "#     print(sheetname)\n",
    "    raw_data  = read_raw_data(all_data, sheetname)\n",
    "    raw_data = process_raw(raw_data, 5, 1)\n",
    "    x_train_lstm, y_train_lstm, x_test_lstm, y_test_lstm = prepare_train_data(raw_data)\n",
    "    lstm_model = lstm_model()\n",
    "    lstm_model = train_lstm(lstm_model, x_train_lstm, y_train_lstm, model_name=sheetname)"
   ]
  },
  {
   "cell_type": "code",
   "execution_count": 175,
   "metadata": {},
   "outputs": [],
   "source": [
    "def read_raw_data(all_data,filename):\n",
    "    raw_data = pd.read_excel(all_data, sheet_name=filename)\n",
    "    raw_data = raw_data.dropna()\n",
    "    raw_data = raw_data.drop(columns=['Adj Close','Volume','Open','Low','High','Date'], axis=1)\n",
    "    return raw_data\n",
    "\n",
    "# process the raw data\n",
    "def process_raw(raw_data, n_lag, n_seq):\n",
    "    \n",
    "    for i in range(1,n_lag+1):\n",
    "        var_name = 'Shifted Close Price ' + str(i)\n",
    "        raw_data[var_name] = raw_data['Close'].shift(i)\n",
    "        \n",
    "    for i in range(1,n_seq+1):\n",
    "        var_name = 'Shifted Close Price ' + str(-i)\n",
    "        raw_data[var_name] = raw_data['Close'].shift(-i)\n",
    "        \n",
    "    raw_data = raw_data.dropna()\n",
    "    return raw_data\n",
    "\n",
    "def prepare_train_data(raw_data, train_fraction=0.8):\n",
    "    n_train = int(len(raw_data)*0.8)\n",
    "    ## prepare lstm data unsaceld\n",
    "    x_train_l = raw_data.values[:,1:6]\n",
    "    x_train_sub = x_train_l[0:n_train]\n",
    "    x_train_lstm = x_train_sub.reshape(x_train_sub.shape[0],1,x_train_sub.shape[1])\n",
    "\n",
    "    x_test_sub = x_train_l[n_train:]\n",
    "    x_test_lstm = x_test_sub.reshape(x_test_sub.shape[0],1,x_test_sub.shape[1])\n",
    "\n",
    "    ## y train common\n",
    "    y_train_lstm = raw_data.values[:,6].reshape(-1,1)[0:n_train]\n",
    "    y_test_lstm = raw_data.values[:,6].reshape(-1,1)[n_train:]\n",
    "\n",
    "    print(x_train_lstm.shape, y_train_lstm.shape, y_test_lstm.shape)\n",
    "    \n",
    "    x_train_lstm = np.asarray(x_train_lstm).astype(np.float32)\n",
    "    y_train_lstm = np.asarray(y_train_lstm).astype(np.float32)\n",
    "    x_test_lstm = np.asarray(x_test_lstm).astype(np.float32)\n",
    "    y_test_lstm = np.asarray(y_test_lstm).astype(np.float32)\n",
    "\n",
    "    return (x_train_lstm, y_train_lstm, x_test_lstm, y_test_lstm)\n",
    "\n",
    "def lstm_model():\n",
    "    lstm_model = Sequential()\n",
    "    lstm_model.add(LSTM(100, batch_input_shape=(1, 1, 5),\n",
    "                   return_sequences=True, activation='relu', recurrent_activation='hard_sigmoid'))\n",
    "    lstm_model.add(LSTM(100, return_sequences=True, activation='relu', \n",
    "                   recurrent_activation='hard_sigmoid'))\n",
    "    lstm_model.add(LSTM(100, return_sequences=True, activation='relu', \n",
    "                   recurrent_activation='hard_sigmoid'))\n",
    "    lstm_model.add(LSTM(100, activation='relu', recurrent_activation='hard_sigmoid'))\n",
    "    lstm_model.add(Dense(16))\n",
    "    lstm_model.add(Dense(8))\n",
    "    lstm_model.add(Dense(1))\n",
    "    lstm_model.compile(loss='mae', optimizer='adam')\n",
    "    print(lstm_model.summary())\n",
    "    return lstm_model\n",
    "\n",
    "def train_lstm(lstm_model, x_train_lstm, y_train_lstm, n_epochs=10, n_nested_epochs=10, model_name='lstm_model'):\n",
    "    early_stopping = tf.keras.callbacks.EarlyStopping(monitor='loss',patience=5, mode='min')\n",
    "    for i in range(n_nested_epochs):\n",
    "        lstm_model.fit(x_train_lstm, y_train_lstm, \n",
    "                       epochs=n_epochs, batch_size=1)\n",
    "        lstm_model.reset_states()\n",
    "    lstm_model.save(model_name)\n",
    "    return lstm_model\n",
    "\n",
    "\n"
   ]
  },
  {
   "cell_type": "code",
   "execution_count": null,
   "metadata": {},
   "outputs": [],
   "source": []
  }
 ],
 "metadata": {
  "kernelspec": {
   "display_name": "Python 3",
   "language": "python",
   "name": "python3"
  },
  "language_info": {
   "codemirror_mode": {
    "name": "ipython",
    "version": 3
   },
   "file_extension": ".py",
   "mimetype": "text/x-python",
   "name": "python",
   "nbconvert_exporter": "python",
   "pygments_lexer": "ipython3",
   "version": "3.8.3"
  }
 },
 "nbformat": 4,
 "nbformat_minor": 4
}
